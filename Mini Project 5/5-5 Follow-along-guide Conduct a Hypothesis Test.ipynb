{
 "cells": [
  {
   "cell_type": "markdown",
   "metadata": {
    "id": "xSDP4bMrIL2x"
   },
   "source": [
    "# 5-5 Follow-along-guide Conduct a Hypothesis Test"
   ]
  },
  {
   "cell_type": "markdown",
   "metadata": {},
   "source": [
    "## Import packages and libraries\n",
    "\n",
    "Before you begin the activity, import all the required libraries and extensions. Throughout the course, you will be using pandas and scipy stats for operations."
   ]
  },
  {
   "cell_type": "code",
   "execution_count": 1,
   "metadata": {
    "id": "_C6AXCrjIMvM"
   },
   "outputs": [],
   "source": [
    "import pandas as pd\n",
    "from scipy import stats"
   ]
  },
  {
   "cell_type": "code",
   "execution_count": 2,
   "metadata": {
    "id": "Q1cI14FVEsS8"
   },
   "outputs": [
    {
     "data": {
      "text/html": [
       "<div>\n",
       "<style scoped>\n",
       "    .dataframe tbody tr th:only-of-type {\n",
       "        vertical-align: middle;\n",
       "    }\n",
       "\n",
       "    .dataframe tbody tr th {\n",
       "        vertical-align: top;\n",
       "    }\n",
       "\n",
       "    .dataframe thead th {\n",
       "        text-align: right;\n",
       "    }\n",
       "</style>\n",
       "<table border=\"1\" class=\"dataframe\">\n",
       "  <thead>\n",
       "    <tr style=\"text-align: right;\">\n",
       "      <th></th>\n",
       "      <th>DISTNAME</th>\n",
       "      <th>STATNAME</th>\n",
       "      <th>BLOCKS</th>\n",
       "      <th>VILLAGES</th>\n",
       "      <th>CLUSTERS</th>\n",
       "      <th>TOTPOPULAT</th>\n",
       "      <th>OVERALL_LI</th>\n",
       "    </tr>\n",
       "  </thead>\n",
       "  <tbody>\n",
       "    <tr>\n",
       "      <th>0</th>\n",
       "      <td>DISTRICT32</td>\n",
       "      <td>STATE1</td>\n",
       "      <td>13</td>\n",
       "      <td>391</td>\n",
       "      <td>104</td>\n",
       "      <td>875564.0</td>\n",
       "      <td>66.92</td>\n",
       "    </tr>\n",
       "    <tr>\n",
       "      <th>1</th>\n",
       "      <td>DISTRICT649</td>\n",
       "      <td>STATE1</td>\n",
       "      <td>18</td>\n",
       "      <td>678</td>\n",
       "      <td>144</td>\n",
       "      <td>1015503.0</td>\n",
       "      <td>66.93</td>\n",
       "    </tr>\n",
       "    <tr>\n",
       "      <th>2</th>\n",
       "      <td>DISTRICT229</td>\n",
       "      <td>STATE1</td>\n",
       "      <td>8</td>\n",
       "      <td>94</td>\n",
       "      <td>65</td>\n",
       "      <td>1269751.0</td>\n",
       "      <td>71.21</td>\n",
       "    </tr>\n",
       "    <tr>\n",
       "      <th>3</th>\n",
       "      <td>DISTRICT259</td>\n",
       "      <td>STATE1</td>\n",
       "      <td>13</td>\n",
       "      <td>523</td>\n",
       "      <td>104</td>\n",
       "      <td>735753.0</td>\n",
       "      <td>57.98</td>\n",
       "    </tr>\n",
       "    <tr>\n",
       "      <th>4</th>\n",
       "      <td>DISTRICT486</td>\n",
       "      <td>STATE1</td>\n",
       "      <td>8</td>\n",
       "      <td>359</td>\n",
       "      <td>64</td>\n",
       "      <td>570060.0</td>\n",
       "      <td>65.00</td>\n",
       "    </tr>\n",
       "  </tbody>\n",
       "</table>\n",
       "</div>"
      ],
      "text/plain": [
       "      DISTNAME STATNAME  BLOCKS  VILLAGES  CLUSTERS  TOTPOPULAT  OVERALL_LI\n",
       "0   DISTRICT32   STATE1      13       391       104    875564.0       66.92\n",
       "1  DISTRICT649   STATE1      18       678       144   1015503.0       66.93\n",
       "2  DISTRICT229   STATE1       8        94        65   1269751.0       71.21\n",
       "3  DISTRICT259   STATE1      13       523       104    735753.0       57.98\n",
       "4  DISTRICT486   STATE1       8       359        64    570060.0       65.00"
      ]
     },
     "execution_count": 2,
     "metadata": {},
     "output_type": "execute_result"
    }
   ],
   "source": [
    "education_districtwise = pd.read_csv(\"education_districtwise.csv\")\n",
    "education_districtwise = education_districtwise.dropna()\n",
    "education_districtwise.head()"
   ]
  },
  {
   "cell_type": "code",
   "execution_count": 3,
   "metadata": {},
   "outputs": [
    {
     "data": {
      "text/plain": [
       "4438"
      ]
     },
     "execution_count": 3,
     "metadata": {},
     "output_type": "execute_result"
    }
   ],
   "source": [
    "education_districtwise.size"
   ]
  },
  {
   "cell_type": "markdown",
   "metadata": {},
   "source": [
    "## Activity overview"
   ]
  },
  {
   "cell_type": "markdown",
   "metadata": {
    "id": "Ws00bNivmDGj"
   },
   "source": [
    "This activity continues the scenario from an earlier part of the course, in which you are a data professional working for the Department of Education of a large nation. Recall that you are analyzing data on the literacy rate for each district."
   ]
  },
  {
   "cell_type": "markdown",
   "metadata": {
    "id": "OOoT0OC8mKJp"
   },
   "source": [
    "Now imagine that the Department of Education asks you to collect data on mean district literacy rates for two of the nation’s largest states: STATE21 and STATE28. STATE28 has almost 40 districts, and STATE21 has more than 70. Due to limited time and resources, you are only able to survey 20 randomly chosen districts in each state. The department asks you to determine if the difference between the two mean district literacy rates is statistically significant or due to chance. This will help the department decide how to distribute government funding to improve literacy. If there is a statistically-significant difference, the state with the lower literacy rate may receive more funding. \n",
    "\n",
    "In this activity, you will use Python to simulate taking a random sample of 20 districts in each state and conduct a two-sample t-test based on the sample data. \n"
   ]
  },
  {
   "cell_type": "markdown",
   "metadata": {
    "id": "QdJe4yLiS5r-"
   },
   "source": [
    "## Explore the data\n",
    "\n",
    "To start, filter your dataframe for the district literacy rate data from the states STATE21 and STATE28. \n",
    "\n",
    "First, name a new variable: `state21`. Then, use the relational operator for equals (`==`) to get the relevant data from the `STATNAME` column. "
   ]
  },
  {
   "cell_type": "code",
   "execution_count": 4,
   "metadata": {},
   "outputs": [
    {
     "name": "stdout",
     "output_type": "stream",
     "text": [
      "STATNAME\n",
      "STATE21    71\n",
      "STATE22    50\n",
      "STATE28    38\n",
      "STATE17    35\n",
      "STATE13    33\n",
      "STATE6     30\n",
      "STATE20    30\n",
      "STATE33    27\n",
      "STATE24    27\n",
      "STATE9     26\n",
      "STATE23    24\n",
      "STATE1     22\n",
      "STATE25    21\n",
      "STATE34    20\n",
      "STATE26    20\n",
      "STATE3     16\n",
      "STATE31    16\n",
      "STATE5     14\n",
      "STATE15    13\n",
      "STATE7     13\n",
      "STATE16    12\n",
      "STATE27    11\n",
      "STATE29    10\n",
      "STATE35     9\n",
      "STATE2      9\n",
      "STATE12     8\n",
      "STATE4      7\n",
      "STATE14     4\n",
      "STATE18     4\n",
      "STATE32     4\n",
      "STATE11     3\n",
      "STATE10     2\n",
      "STATE30     2\n",
      "STATE36     1\n",
      "STATE19     1\n",
      "STATE8      1\n",
      "Name: count, dtype: int64\n"
     ]
    }
   ],
   "source": [
    "print(education_districtwise['STATNAME'].value_counts())"
   ]
  },
  {
   "cell_type": "code",
   "execution_count": 5,
   "metadata": {
    "id": "PRB_UvPtIkrr"
   },
   "outputs": [
    {
     "data": {
      "text/html": [
       "<div>\n",
       "<style scoped>\n",
       "    .dataframe tbody tr th:only-of-type {\n",
       "        vertical-align: middle;\n",
       "    }\n",
       "\n",
       "    .dataframe tbody tr th {\n",
       "        vertical-align: top;\n",
       "    }\n",
       "\n",
       "    .dataframe thead th {\n",
       "        text-align: right;\n",
       "    }\n",
       "</style>\n",
       "<table border=\"1\" class=\"dataframe\">\n",
       "  <thead>\n",
       "    <tr style=\"text-align: right;\">\n",
       "      <th></th>\n",
       "      <th>DISTNAME</th>\n",
       "      <th>STATNAME</th>\n",
       "      <th>BLOCKS</th>\n",
       "      <th>VILLAGES</th>\n",
       "      <th>CLUSTERS</th>\n",
       "      <th>TOTPOPULAT</th>\n",
       "      <th>OVERALL_LI</th>\n",
       "    </tr>\n",
       "  </thead>\n",
       "  <tbody>\n",
       "    <tr>\n",
       "      <th>133</th>\n",
       "      <td>DISTRICT607</td>\n",
       "      <td>STATE21</td>\n",
       "      <td>14</td>\n",
       "      <td>1357</td>\n",
       "      <td>127</td>\n",
       "      <td>3464228.0</td>\n",
       "      <td>72.03</td>\n",
       "    </tr>\n",
       "    <tr>\n",
       "      <th>134</th>\n",
       "      <td>DISTRICT50</td>\n",
       "      <td>STATE21</td>\n",
       "      <td>12</td>\n",
       "      <td>594</td>\n",
       "      <td>86</td>\n",
       "      <td>4138605.0</td>\n",
       "      <td>70.11</td>\n",
       "    </tr>\n",
       "    <tr>\n",
       "      <th>135</th>\n",
       "      <td>DISTRICT61</td>\n",
       "      <td>STATE21</td>\n",
       "      <td>16</td>\n",
       "      <td>1919</td>\n",
       "      <td>159</td>\n",
       "      <td>3683896.0</td>\n",
       "      <td>70.43</td>\n",
       "    </tr>\n",
       "    <tr>\n",
       "      <th>136</th>\n",
       "      <td>DISTRICT191</td>\n",
       "      <td>STATE21</td>\n",
       "      <td>10</td>\n",
       "      <td>1141</td>\n",
       "      <td>69</td>\n",
       "      <td>4773138.0</td>\n",
       "      <td>58.67</td>\n",
       "    </tr>\n",
       "    <tr>\n",
       "      <th>137</th>\n",
       "      <td>DISTRICT328</td>\n",
       "      <td>STATE21</td>\n",
       "      <td>7</td>\n",
       "      <td>1116</td>\n",
       "      <td>85</td>\n",
       "      <td>2335398.0</td>\n",
       "      <td>55.08</td>\n",
       "    </tr>\n",
       "  </tbody>\n",
       "</table>\n",
       "</div>"
      ],
      "text/plain": [
       "        DISTNAME STATNAME  BLOCKS  VILLAGES  CLUSTERS  TOTPOPULAT  OVERALL_LI\n",
       "133  DISTRICT607  STATE21      14      1357       127   3464228.0       72.03\n",
       "134   DISTRICT50  STATE21      12       594        86   4138605.0       70.11\n",
       "135   DISTRICT61  STATE21      16      1919       159   3683896.0       70.43\n",
       "136  DISTRICT191  STATE21      10      1141        69   4773138.0       58.67\n",
       "137  DISTRICT328  STATE21       7      1116        85   2335398.0       55.08"
      ]
     },
     "execution_count": 5,
     "metadata": {},
     "output_type": "execute_result"
    }
   ],
   "source": [
    "state21 = education_districtwise[education_districtwise['STATNAME'] == \"STATE21\"]\n",
    "state21.head()"
   ]
  },
  {
   "cell_type": "code",
   "execution_count": 6,
   "metadata": {},
   "outputs": [
    {
     "name": "stdout",
     "output_type": "stream",
     "text": [
      "<class 'pandas.core.frame.DataFrame'>\n",
      "Index: 71 entries, 133 to 204\n",
      "Data columns (total 7 columns):\n",
      " #   Column      Non-Null Count  Dtype  \n",
      "---  ------      --------------  -----  \n",
      " 0   DISTNAME    71 non-null     object \n",
      " 1   STATNAME    71 non-null     object \n",
      " 2   BLOCKS      71 non-null     int64  \n",
      " 3   VILLAGES    71 non-null     int64  \n",
      " 4   CLUSTERS    71 non-null     int64  \n",
      " 5   TOTPOPULAT  71 non-null     float64\n",
      " 6   OVERALL_LI  71 non-null     float64\n",
      "dtypes: float64(2), int64(3), object(2)\n",
      "memory usage: 4.4+ KB\n"
     ]
    }
   ],
   "source": [
    "state21.info()"
   ]
  },
  {
   "cell_type": "markdown",
   "metadata": {
    "id": "ggXtlQCVTq9B"
   },
   "source": [
    "Next, name another variable: `state28`. Follow the same procedure to get the relevant data from the `STATNAME` column. "
   ]
  },
  {
   "cell_type": "code",
   "execution_count": 7,
   "metadata": {
    "id": "H-HDRkJMTki5"
   },
   "outputs": [
    {
     "data": {
      "text/html": [
       "<div>\n",
       "<style scoped>\n",
       "    .dataframe tbody tr th:only-of-type {\n",
       "        vertical-align: middle;\n",
       "    }\n",
       "\n",
       "    .dataframe tbody tr th {\n",
       "        vertical-align: top;\n",
       "    }\n",
       "\n",
       "    .dataframe thead th {\n",
       "        text-align: right;\n",
       "    }\n",
       "</style>\n",
       "<table border=\"1\" class=\"dataframe\">\n",
       "  <thead>\n",
       "    <tr style=\"text-align: right;\">\n",
       "      <th></th>\n",
       "      <th>DISTNAME</th>\n",
       "      <th>STATNAME</th>\n",
       "      <th>BLOCKS</th>\n",
       "      <th>VILLAGES</th>\n",
       "      <th>CLUSTERS</th>\n",
       "      <th>TOTPOPULAT</th>\n",
       "      <th>OVERALL_LI</th>\n",
       "    </tr>\n",
       "  </thead>\n",
       "  <tbody>\n",
       "    <tr>\n",
       "      <th>208</th>\n",
       "      <td>DISTRICT495</td>\n",
       "      <td>STATE28</td>\n",
       "      <td>18</td>\n",
       "      <td>1210</td>\n",
       "      <td>193</td>\n",
       "      <td>3922780.0</td>\n",
       "      <td>58.06</td>\n",
       "    </tr>\n",
       "    <tr>\n",
       "      <th>209</th>\n",
       "      <td>DISTRICT208</td>\n",
       "      <td>STATE28</td>\n",
       "      <td>27</td>\n",
       "      <td>1534</td>\n",
       "      <td>251</td>\n",
       "      <td>5082868.0</td>\n",
       "      <td>58.26</td>\n",
       "    </tr>\n",
       "    <tr>\n",
       "      <th>210</th>\n",
       "      <td>DISTRICT618</td>\n",
       "      <td>STATE28</td>\n",
       "      <td>5</td>\n",
       "      <td>183</td>\n",
       "      <td>34</td>\n",
       "      <td>656916.0</td>\n",
       "      <td>56.00</td>\n",
       "    </tr>\n",
       "    <tr>\n",
       "      <th>211</th>\n",
       "      <td>DISTRICT554</td>\n",
       "      <td>STATE28</td>\n",
       "      <td>17</td>\n",
       "      <td>852</td>\n",
       "      <td>169</td>\n",
       "      <td>3419622.0</td>\n",
       "      <td>53.53</td>\n",
       "    </tr>\n",
       "    <tr>\n",
       "      <th>212</th>\n",
       "      <td>DISTRICT642</td>\n",
       "      <td>STATE28</td>\n",
       "      <td>21</td>\n",
       "      <td>1102</td>\n",
       "      <td>241</td>\n",
       "      <td>4476044.0</td>\n",
       "      <td>60.90</td>\n",
       "    </tr>\n",
       "  </tbody>\n",
       "</table>\n",
       "</div>"
      ],
      "text/plain": [
       "        DISTNAME STATNAME  BLOCKS  VILLAGES  CLUSTERS  TOTPOPULAT  OVERALL_LI\n",
       "208  DISTRICT495  STATE28      18      1210       193   3922780.0       58.06\n",
       "209  DISTRICT208  STATE28      27      1534       251   5082868.0       58.26\n",
       "210  DISTRICT618  STATE28       5       183        34    656916.0       56.00\n",
       "211  DISTRICT554  STATE28      17       852       169   3419622.0       53.53\n",
       "212  DISTRICT642  STATE28      21      1102       241   4476044.0       60.90"
      ]
     },
     "execution_count": 7,
     "metadata": {},
     "output_type": "execute_result"
    }
   ],
   "source": [
    "state28 = education_districtwise[education_districtwise['STATNAME'] == \"STATE28\"]\n",
    "state28.head()"
   ]
  },
  {
   "cell_type": "code",
   "execution_count": 8,
   "metadata": {},
   "outputs": [
    {
     "name": "stdout",
     "output_type": "stream",
     "text": [
      "<class 'pandas.core.frame.DataFrame'>\n",
      "Index: 38 entries, 208 to 245\n",
      "Data columns (total 7 columns):\n",
      " #   Column      Non-Null Count  Dtype  \n",
      "---  ------      --------------  -----  \n",
      " 0   DISTNAME    38 non-null     object \n",
      " 1   STATNAME    38 non-null     object \n",
      " 2   BLOCKS      38 non-null     int64  \n",
      " 3   VILLAGES    38 non-null     int64  \n",
      " 4   CLUSTERS    38 non-null     int64  \n",
      " 5   TOTPOPULAT  38 non-null     float64\n",
      " 6   OVERALL_LI  38 non-null     float64\n",
      "dtypes: float64(2), int64(3), object(2)\n",
      "memory usage: 2.4+ KB\n"
     ]
    }
   ],
   "source": [
    "state28.info()"
   ]
  },
  {
   "cell_type": "markdown",
   "metadata": {
    "id": "U6-SPgP2UADq"
   },
   "source": [
    "### Simulate random sampling\n",
    "\n",
    "Now that you have organized your data, use the `sample()` function to take a random sample of 20 districts from each state. First, name a new variable: `sampled_state21`. Then, enter the arguments of the `sample()` function. \n",
    "\n",
    "*   `n`: Your sample size is `20`. \n",
    "*   `replace`: Choose `True` because you are sampling with replacement.\n",
    "*   `random_state`: Choose an arbitrary number for the random seed – how about `5200`. \n",
    ". "
   ]
  },
  {
   "cell_type": "code",
   "execution_count": 15,
   "metadata": {
    "id": "T7Xbx5XtFAGU"
   },
   "outputs": [
    {
     "name": "stdout",
     "output_type": "stream",
     "text": [
      "<class 'pandas.core.frame.DataFrame'>\n",
      "Index: 20 entries, 171 to 202\n",
      "Data columns (total 7 columns):\n",
      " #   Column      Non-Null Count  Dtype  \n",
      "---  ------      --------------  -----  \n",
      " 0   DISTNAME    20 non-null     object \n",
      " 1   STATNAME    20 non-null     object \n",
      " 2   BLOCKS      20 non-null     int64  \n",
      " 3   VILLAGES    20 non-null     int64  \n",
      " 4   CLUSTERS    20 non-null     int64  \n",
      " 5   TOTPOPULAT  20 non-null     float64\n",
      " 6   OVERALL_LI  20 non-null     float64\n",
      "dtypes: float64(2), int64(3), object(2)\n",
      "memory usage: 1.2+ KB\n"
     ]
    }
   ],
   "source": [
    "sampled_state21 = state21.sample(n=20, replace = True, random_state=5200)\n",
    "sampled_state21.info()"
   ]
  },
  {
   "cell_type": "markdown",
   "metadata": {
    "id": "cRrhbM4WULQ8"
   },
   "source": [
    "Now, name another variable: `sampled_state28`. Follow the same procedure, but this time choose a different number for the random seed; for example, 5200. "
   ]
  },
  {
   "cell_type": "code",
   "execution_count": 16,
   "metadata": {
    "id": "BE555gsmULmX"
   },
   "outputs": [
    {
     "name": "stdout",
     "output_type": "stream",
     "text": [
      "<class 'pandas.core.frame.DataFrame'>\n",
      "Index: 20 entries, 242 to 237\n",
      "Data columns (total 7 columns):\n",
      " #   Column      Non-Null Count  Dtype  \n",
      "---  ------      --------------  -----  \n",
      " 0   DISTNAME    20 non-null     object \n",
      " 1   STATNAME    20 non-null     object \n",
      " 2   BLOCKS      20 non-null     int64  \n",
      " 3   VILLAGES    20 non-null     int64  \n",
      " 4   CLUSTERS    20 non-null     int64  \n",
      " 5   TOTPOPULAT  20 non-null     float64\n",
      " 6   OVERALL_LI  20 non-null     float64\n",
      "dtypes: float64(2), int64(3), object(2)\n",
      "memory usage: 1.2+ KB\n"
     ]
    }
   ],
   "source": [
    "sampled_state28 = state28.sample(n=20, replace = True, random_state=5200)\n",
    "sampled_state28.info()"
   ]
  },
  {
   "cell_type": "markdown",
   "metadata": {
    "id": "A_wXNJTSwU1T"
   },
   "source": [
    "### Compute the sample means\n",
    "\n",
    "You now have two random samples of 20 districts—one sample for each state. Next, use `mean()` to compute the mean district literacy rate for both STATE21 and STATE28."
   ]
  },
  {
   "cell_type": "code",
   "execution_count": 17,
   "metadata": {
    "colab": {
     "base_uri": "https://localhost:8080/"
    },
    "id": "WtCBv7Pdzp1S",
    "outputId": "8867edc3-630a-4c49-9cef-23160a59b4fb"
   },
   "outputs": [
    {
     "data": {
      "text/plain": [
       "np.float64(66.1445)"
      ]
     },
     "execution_count": 17,
     "metadata": {},
     "output_type": "execute_result"
    }
   ],
   "source": [
    "sampled_state21['OVERALL_LI'].mean()"
   ]
  },
  {
   "cell_type": "code",
   "execution_count": 18,
   "metadata": {
    "colab": {
     "base_uri": "https://localhost:8080/"
    },
    "id": "T2YShgan0MDg",
    "outputId": "301fbf0e-a7e8-4c4c-cbe3-7870fc7c9e44"
   },
   "outputs": [
    {
     "data": {
      "text/plain": [
       "np.float64(64.85799999999999)"
      ]
     },
     "execution_count": 18,
     "metadata": {},
     "output_type": "execute_result"
    }
   ],
   "source": [
    "sampled_state28['OVERALL_LI'].mean()"
   ]
  },
  {
   "cell_type": "markdown",
   "metadata": {
    "id": "RJNadLsNWssi"
   },
   "source": [
    "STATE21 has a mean district literacy rate of about X %, while STATE28 has a mean district literacy rate of about Y%.\n",
    "\n",
    "Based on your sample data, the observed difference between the mean district literacy rates of STATE21 and STATE28 is z percentage points (X% - Y%). "
   ]
  },
  {
   "cell_type": "markdown",
   "metadata": {
    "id": "hqjCHOPRwh_j"
   },
   "source": [
    "**Note**: At this point, you might be tempted to conclude that STATE21 has a higher overall literacy rate than STATE28. However, due to sampling variability, this observed difference might simply be due to chance, rather than an actual difference in the corresponding population means. A hypothesis test can help you determine whether or not your results are statistically significant. "
   ]
  },
  {
   "cell_type": "markdown",
   "metadata": {
    "id": "ozRJehHPZQ6i"
   },
   "source": [
    "### Conduct a hypothesis test\n",
    "\n",
    "Now that you’ve organized your data and simulated random sampling, you’re ready to conduct your hypothesis test. Recall that a two-sample t-test is the standard approach for comparing the means of two independent samples. To review, the steps for conducting a hypothesis test are:\n",
    "\n",
    "1.   State the null hypothesis and the alternative hypothesis.\n",
    "2.   Choose a significance level.\n",
    "3.   Find the p-value. \n",
    "4.   Reject or fail to reject the null hypothesis."
   ]
  },
  {
   "cell_type": "markdown",
   "metadata": {
    "id": "HSbe913K6psC"
   },
   "source": [
    "#### Step 1: State the null hypothesis and the alternative hypothesis\n",
    "\n",
    "The **null hypothesis** is a statement that is assumed to be true unless there is convincing evidence to the contrary. The **alternative hypothesis** is a statement that contradicts the null hypothesis and is accepted as true only if there is convincing evidence for it. \n",
    "\n",
    "In a two-sample t-test, the null hypothesis states that there is no difference between the means of your two groups. The alternative hypothesis states the contrary claim: there is a difference between the means of your two groups. \n",
    "\n",
    "We use $H_0$ to denote the null hypothesis and $H_A$ to denote the alternative hypothesis.\n",
    "\n",
    "*   $H_0$: There is no difference in the mean district literacy rates between STATE21 and STATE28.\n",
    "*   $H_A$: There is a difference in the mean district literacy rates between STATE21 and STATE28.\n",
    "\n"
   ]
  },
  {
   "cell_type": "markdown",
   "metadata": {
    "id": "eZpCqv6D9241"
   },
   "source": [
    "#### Step 2: Choose a significance level\n",
    "\n",
    "The **significance level** is the threshold at which you will consider a result statistically significant. This is the probability of rejecting the null hypothesis when it is true. The Department of Education asks you to use their standard level of 5%, or 0.05.  "
   ]
  },
  {
   "cell_type": "markdown",
   "metadata": {
    "id": "0k3BHBhR8bCZ"
   },
   "source": [
    "#### Step 3: Find the p-value\n",
    "\n",
    "**P-value** refers to the probability of observing results as or more extreme than those observed when the null hypothesis is true.\n",
    "\n",
    "Based on your sample data, the difference between the mean district literacy rates of STATE21 and STATE28 is 6.2 percentage points. Your null hypothesis claims that this difference is due to chance. Your p-value is the probability of observing an absolute difference in sample means that is 6.2 or greater *if* the null hypothesis is true. If the probability of this outcome is very unlikely—in particular, if your p-value is *less than* your significance level of 5%— then you will reject the null hypothesis."
   ]
  },
  {
   "cell_type": "markdown",
   "metadata": {
    "id": "d7u1j6Gpdk55"
   },
   "source": [
    "#### `scipy.stats.ttest_ind()`\n",
    "\n",
    "For a two-sample $t$-test, you can use `scipy.stats.ttest_ind()` to compute your p-value. This function includes the following arguments:\n",
    "\n",
    "*   `a`: Observations from the first sample \n",
    "*   `b`: Observations from the second sample\n",
    "*   `equal_var`: A boolean, or true/false statement, which indicates whether the population variance of the two samples is assumed to be equal. In our example, you don’t have access to data for the entire population, so you don’t want to assume anything about the variance. To avoid making a wrong assumption, set this argument to `False`. \n",
    "\n",
    "**Reference:** [scipy.stats.ttest_ind](https://docs.scipy.org/doc/scipy/reference/generated/scipy.stats.ttest_ind.html)\n"
   ]
  },
  {
   "cell_type": "markdown",
   "metadata": {
    "id": "MrAORxvmfQ20"
   },
   "source": [
    "Now write your code and enter the relevant arguments: \n",
    "\n",
    "*   `a`: Your first sample refers to the district literacy rate data for STATE21, which is stored in the `OVERALL_LI` column of your variable `sampled_ state21`.\n",
    "*   `b`: Your second sample refers to the district literacy rate data for STATE28, which is stored in the `OVERALL_LI` column of your variable `sampled_ state28`.\n",
    "*   `equal_var`: Set to `False` because you don’t want to assume that the two samples have the same variance."
   ]
  },
  {
   "cell_type": "code",
   "execution_count": 19,
   "metadata": {
    "colab": {
     "base_uri": "https://localhost:8080/"
    },
    "id": "lbKgNo-tIkki",
    "outputId": "7de9a1df-d039-4e5b-8abd-1dc4158388f6"
   },
   "outputs": [
    {
     "data": {
      "text/plain": [
       "TtestResult(statistic=np.float64(0.4648579183454708), pvalue=np.float64(0.645250458938771), df=np.float64(31.30509760355441))"
      ]
     },
     "execution_count": 19,
     "metadata": {},
     "output_type": "execute_result"
    }
   ],
   "source": [
    "# n < 30, t-distribution: sample a, sample b, assume not same variance.\n",
    "\n",
    "stats.ttest_ind(a=sampled_state21['OVERALL_LI'], b=sampled_state28['OVERALL_LI'], equal_var=False)"
   ]
  },
  {
   "cell_type": "markdown",
   "metadata": {
    "id": "Dv9jGagsAaN2"
   },
   "source": [
    "Your p-value is about 0.0064, or 0.64%. \n",
    "\n",
    "This means there is only a 0.64% probability that the absolute difference between the two mean district literacy rates would be 6.2 percentage points or greater if the null hypothesis were true. In other words, it’s highly unlikely that the difference in the two means is due to chance."
   ]
  },
  {
   "cell_type": "markdown",
   "metadata": {
    "id": "hWLkcY05_aLf"
   },
   "source": [
    "#### Step 4: Reject or fail to reject the null hypothesis\n",
    "\n",
    "To draw a conclusion, compare your p-value with the significance level.\n",
    "\n",
    "*   If the p-value is **less** than the significance level, you can conclude that there is a statistically significant difference in the mean district literacy rates between STATE21 and STATE28. In other words, you will **reject** the null hypothesis $H_0$.\n",
    "*   If the p-value is **greater** than the significance level, you can conclude that there is *not* a statistically significant difference in the mean district literacy rates between STATE21 and STATE28. In other words, you will **fail to reject** the null hypothesis $H_0$.\n",
    "\n",
    "Your p-value of 0.0064, or 0.64%, is less than the significance level of 0.05, or 5%. Therefore, you will *reject* the null hypothesis and conclude that there is a statistically significant difference between the mean district literacy rates of the two states: STATE21 and STATE28. "
   ]
  },
  {
   "cell_type": "code",
   "execution_count": 21,
   "metadata": {},
   "outputs": [
    {
     "name": "stdout",
     "output_type": "stream",
     "text": [
      "pvalue: 0.645250458938771\n",
      "\n",
      "pvalue > 0.05, Fail to reject Ho.\n"
     ]
    }
   ],
   "source": [
    "# Extracting pvalue and make the test\n",
    "\n",
    "statistic, pvalue = stats.ttest_ind(a=sampled_state21['OVERALL_LI'], b=sampled_state28['OVERALL_LI'], equal_var=False)\n",
    "\n",
    "print (\"pvalue:\",pvalue)\n",
    "print()\n",
    "\n",
    "if pvalue < 0.05:\n",
    "    \n",
    "    print('pvalue < 0.05, Reject Ho.')          # Ha: There is a difference in the mean\n",
    "else:\n",
    "    print('pvalue > 0.05, Fail to reject Ho.')  # Ho: There is no difference in the mean"
   ]
  },
  {
   "cell_type": "markdown",
   "metadata": {},
   "source": [
    "    There is a statistically significant difference between the mean district literacy rates of the two states: \n",
    "    STATE21 and STATE28."
   ]
  },
  {
   "cell_type": "markdown",
   "metadata": {
    "id": "fN0US9mFiDVn"
   },
   "source": [
    "Your analysis will help the Department of Education decide how to distribute government resources. Since there is a statistically significant difference in mean district literacy rates, the state with the lower literacy rate, STATE28, will likely receive more resources to improve literacy. "
   ]
  }
 ],
 "metadata": {
  "colab": {
   "collapsed_sections": [],
   "provenance": [
    {
     "file_id": "1BgN3Lv1fx-AxyKSqB_2kM3dJ4mFBctv_",
     "timestamp": 1662734078308
    },
    {
     "file_id": "1ZYfhIvPRxnw7ghB_BsNQAMUorLXpAZs_",
     "timestamp": 1658889786811
    }
   ]
  },
  "kernelspec": {
   "display_name": "Python 3",
   "language": "python",
   "name": "python3"
  },
  "language_info": {
   "codemirror_mode": {
    "name": "ipython",
    "version": 3
   },
   "file_extension": ".py",
   "mimetype": "text/x-python",
   "name": "python",
   "nbconvert_exporter": "python",
   "pygments_lexer": "ipython3",
   "version": "3.13.1"
  }
 },
 "nbformat": 4,
 "nbformat_minor": 1
}
