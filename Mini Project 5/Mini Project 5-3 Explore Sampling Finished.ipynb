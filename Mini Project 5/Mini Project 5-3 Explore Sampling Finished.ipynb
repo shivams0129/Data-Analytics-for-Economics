{
 "cells": [
  {
   "cell_type": "markdown",
   "metadata": {
    "id": "9HYKQFUbTX8V"
   },
   "source": [
    "# Mini Project 5-3 Explore Sampling"
   ]
  },
  {
   "cell_type": "markdown",
   "metadata": {
    "id": "ee31943b-274e-4c28-bce6-155cb6f4c334"
   },
   "source": [
    "## Introduction\n",
    "In this project, you will engage in effective sampling of a dataset in order to make it easier to analyze. As a data professional you will often work with extremely large datasets, and utilizing proper sampling techniques helps you improve your efficiency in this work. \n",
    "\n",
    "For this project, you are a member of an analytics team for the Environmental Protection Agency. You are assigned to analyze data on air quality with respect to carbon monoxide—a major air pollutant—and report your findings. The data utilized in this project includes information from over 200 sites, identified by their state name, county name, city name, and local site name. You will use effective sampling within this dataset. "
   ]
  },
  {
   "cell_type": "markdown",
   "metadata": {
    "id": "4bb9630e-b940-4835-a389-d39def1fa848"
   },
   "source": [
    "## Step 1: Imports"
   ]
  },
  {
   "cell_type": "markdown",
   "metadata": {
    "id": "bc180686-4ae2-47ea-a292-3588ac60a820"
   },
   "source": [
    "### Import packages\n",
    "\n",
    "Import `pandas`,  `numpy`, `matplotlib`, `statsmodels`, and `scipy`. "
   ]
  },
  {
   "cell_type": "code",
   "execution_count": 3,
   "id": "ec2f406a",
   "metadata": {
    "id": "8e7f1f2c-bbcc-4f3c-b927-b090ee8334c4"
   },
   "outputs": [],
   "source": [
    "# Import libraries and packages\n",
    "import numpy as np\n",
    "import pandas as pd\n",
    "import matplotlib.pyplot as plt\n",
    "import statsmodels.api as sm\n",
    "import scipy.stats as stats"
   ]
  },
  {
   "cell_type": "markdown",
   "metadata": {
    "id": "7d29c6bd-f194-46bb-b794-56dc20130473"
   },
   "source": [
    "### Load the dataset\n",
    "\n",
    "As shown in this cell, the dataset has been automatically loaded in for you. You do not need to download the .csv file, or provide more code, in order to access the dataset and proceed with this lab. Please continue with this activity by completing the following instructions."
   ]
  },
  {
   "cell_type": "code",
   "execution_count": 4,
   "id": "27c850ed",
   "metadata": {
    "id": "3bd40d44-080f-4e49-b0c2-160dedc3c4df"
   },
   "outputs": [],
   "source": [
    "# Import data.\n",
    "Airquality = pd.read_csv('c4_epa_air_quality.csv')\n",
    "Airquality = Airquality.dropna()\n"
   ]
  },
  {
   "cell_type": "code",
   "execution_count": 5,
   "id": "ce0ea4fb",
   "metadata": {},
   "outputs": [
    {
     "data": {
      "text/html": [
       "<div>\n",
       "<style scoped>\n",
       "    .dataframe tbody tr th:only-of-type {\n",
       "        vertical-align: middle;\n",
       "    }\n",
       "\n",
       "    .dataframe tbody tr th {\n",
       "        vertical-align: top;\n",
       "    }\n",
       "\n",
       "    .dataframe thead th {\n",
       "        text-align: right;\n",
       "    }\n",
       "</style>\n",
       "<table border=\"1\" class=\"dataframe\">\n",
       "  <thead>\n",
       "    <tr style=\"text-align: right;\">\n",
       "      <th></th>\n",
       "      <th>Unnamed: 0</th>\n",
       "      <th>date_local</th>\n",
       "      <th>state_name</th>\n",
       "      <th>county_name</th>\n",
       "      <th>city_name</th>\n",
       "      <th>local_site_name</th>\n",
       "      <th>parameter_name</th>\n",
       "      <th>units_of_measure</th>\n",
       "      <th>arithmetic_mean</th>\n",
       "      <th>aqi</th>\n",
       "    </tr>\n",
       "  </thead>\n",
       "  <tbody>\n",
       "    <tr>\n",
       "      <th>0</th>\n",
       "      <td>0</td>\n",
       "      <td>2018-01-01</td>\n",
       "      <td>Arizona</td>\n",
       "      <td>Maricopa</td>\n",
       "      <td>Buckeye</td>\n",
       "      <td>BUCKEYE</td>\n",
       "      <td>Carbon monoxide</td>\n",
       "      <td>Parts per million</td>\n",
       "      <td>0.473684</td>\n",
       "      <td>7</td>\n",
       "    </tr>\n",
       "    <tr>\n",
       "      <th>1</th>\n",
       "      <td>1</td>\n",
       "      <td>2018-01-01</td>\n",
       "      <td>Ohio</td>\n",
       "      <td>Belmont</td>\n",
       "      <td>Shadyside</td>\n",
       "      <td>Shadyside</td>\n",
       "      <td>Carbon monoxide</td>\n",
       "      <td>Parts per million</td>\n",
       "      <td>0.263158</td>\n",
       "      <td>5</td>\n",
       "    </tr>\n",
       "    <tr>\n",
       "      <th>2</th>\n",
       "      <td>2</td>\n",
       "      <td>2018-01-01</td>\n",
       "      <td>Wyoming</td>\n",
       "      <td>Teton</td>\n",
       "      <td>Not in a city</td>\n",
       "      <td>Yellowstone National Park - Old Faithful Snow ...</td>\n",
       "      <td>Carbon monoxide</td>\n",
       "      <td>Parts per million</td>\n",
       "      <td>0.111111</td>\n",
       "      <td>2</td>\n",
       "    </tr>\n",
       "    <tr>\n",
       "      <th>3</th>\n",
       "      <td>3</td>\n",
       "      <td>2018-01-01</td>\n",
       "      <td>Pennsylvania</td>\n",
       "      <td>Philadelphia</td>\n",
       "      <td>Philadelphia</td>\n",
       "      <td>North East Waste (NEW)</td>\n",
       "      <td>Carbon monoxide</td>\n",
       "      <td>Parts per million</td>\n",
       "      <td>0.300000</td>\n",
       "      <td>3</td>\n",
       "    </tr>\n",
       "    <tr>\n",
       "      <th>4</th>\n",
       "      <td>4</td>\n",
       "      <td>2018-01-01</td>\n",
       "      <td>Iowa</td>\n",
       "      <td>Polk</td>\n",
       "      <td>Des Moines</td>\n",
       "      <td>CARPENTER</td>\n",
       "      <td>Carbon monoxide</td>\n",
       "      <td>Parts per million</td>\n",
       "      <td>0.215789</td>\n",
       "      <td>3</td>\n",
       "    </tr>\n",
       "    <tr>\n",
       "      <th>5</th>\n",
       "      <td>5</td>\n",
       "      <td>2018-01-01</td>\n",
       "      <td>Hawaii</td>\n",
       "      <td>Honolulu</td>\n",
       "      <td>Not in a city</td>\n",
       "      <td>Kapolei</td>\n",
       "      <td>Carbon monoxide</td>\n",
       "      <td>Parts per million</td>\n",
       "      <td>0.994737</td>\n",
       "      <td>14</td>\n",
       "    </tr>\n",
       "    <tr>\n",
       "      <th>6</th>\n",
       "      <td>6</td>\n",
       "      <td>2018-01-01</td>\n",
       "      <td>Hawaii</td>\n",
       "      <td>Honolulu</td>\n",
       "      <td>Not in a city</td>\n",
       "      <td>Kapolei</td>\n",
       "      <td>Carbon monoxide</td>\n",
       "      <td>Parts per million</td>\n",
       "      <td>0.200000</td>\n",
       "      <td>2</td>\n",
       "    </tr>\n",
       "    <tr>\n",
       "      <th>8</th>\n",
       "      <td>8</td>\n",
       "      <td>2018-01-01</td>\n",
       "      <td>Hawaii</td>\n",
       "      <td>Honolulu</td>\n",
       "      <td>Honolulu</td>\n",
       "      <td>Honolulu</td>\n",
       "      <td>Carbon monoxide</td>\n",
       "      <td>Parts per million</td>\n",
       "      <td>0.400000</td>\n",
       "      <td>5</td>\n",
       "    </tr>\n",
       "    <tr>\n",
       "      <th>9</th>\n",
       "      <td>9</td>\n",
       "      <td>2018-01-01</td>\n",
       "      <td>Colorado</td>\n",
       "      <td>Larimer</td>\n",
       "      <td>Fort Collins</td>\n",
       "      <td>Fort Collins - CSU - S. Mason</td>\n",
       "      <td>Carbon monoxide</td>\n",
       "      <td>Parts per million</td>\n",
       "      <td>0.300000</td>\n",
       "      <td>6</td>\n",
       "    </tr>\n",
       "    <tr>\n",
       "      <th>10</th>\n",
       "      <td>10</td>\n",
       "      <td>2018-01-01</td>\n",
       "      <td>Minnesota</td>\n",
       "      <td>Dakota</td>\n",
       "      <td>Rosemount</td>\n",
       "      <td>Flint Hills Refinery 420</td>\n",
       "      <td>Carbon monoxide</td>\n",
       "      <td>Parts per million</td>\n",
       "      <td>0.247368</td>\n",
       "      <td>3</td>\n",
       "    </tr>\n",
       "  </tbody>\n",
       "</table>\n",
       "</div>"
      ],
      "text/plain": [
       "    Unnamed: 0  date_local    state_name   county_name      city_name  \\\n",
       "0            0  2018-01-01       Arizona      Maricopa        Buckeye   \n",
       "1            1  2018-01-01          Ohio       Belmont      Shadyside   \n",
       "2            2  2018-01-01       Wyoming         Teton  Not in a city   \n",
       "3            3  2018-01-01  Pennsylvania  Philadelphia   Philadelphia   \n",
       "4            4  2018-01-01          Iowa          Polk     Des Moines   \n",
       "5            5  2018-01-01        Hawaii      Honolulu  Not in a city   \n",
       "6            6  2018-01-01        Hawaii      Honolulu  Not in a city   \n",
       "8            8  2018-01-01        Hawaii      Honolulu       Honolulu   \n",
       "9            9  2018-01-01      Colorado       Larimer   Fort Collins   \n",
       "10          10  2018-01-01     Minnesota        Dakota      Rosemount   \n",
       "\n",
       "                                      local_site_name   parameter_name  \\\n",
       "0                                             BUCKEYE  Carbon monoxide   \n",
       "1                                           Shadyside  Carbon monoxide   \n",
       "2   Yellowstone National Park - Old Faithful Snow ...  Carbon monoxide   \n",
       "3                              North East Waste (NEW)  Carbon monoxide   \n",
       "4                                           CARPENTER  Carbon monoxide   \n",
       "5                                             Kapolei  Carbon monoxide   \n",
       "6                                             Kapolei  Carbon monoxide   \n",
       "8                                            Honolulu  Carbon monoxide   \n",
       "9                       Fort Collins - CSU - S. Mason  Carbon monoxide   \n",
       "10                           Flint Hills Refinery 420  Carbon monoxide   \n",
       "\n",
       "     units_of_measure  arithmetic_mean  aqi  \n",
       "0   Parts per million         0.473684    7  \n",
       "1   Parts per million         0.263158    5  \n",
       "2   Parts per million         0.111111    2  \n",
       "3   Parts per million         0.300000    3  \n",
       "4   Parts per million         0.215789    3  \n",
       "5   Parts per million         0.994737   14  \n",
       "6   Parts per million         0.200000    2  \n",
       "8   Parts per million         0.400000    5  \n",
       "9   Parts per million         0.300000    6  \n",
       "10  Parts per million         0.247368    3  "
      ]
     },
     "execution_count": 5,
     "metadata": {},
     "output_type": "execute_result"
    }
   ],
   "source": [
    "# First 10 rows of the data\n",
    "\n",
    "Airquality.head(10)"
   ]
  },
  {
   "cell_type": "markdown",
   "metadata": {
    "id": "95bf39c9-d05c-4324-a40b-bc692607b61b"
   },
   "source": [
    "## Step 2: Data exploration"
   ]
  },
  {
   "cell_type": "markdown",
   "metadata": {
    "id": "26561614-8e9b-4840-8dbf-b50131ae5314",
    "tags": []
   },
   "source": [
    "### Examine the data\n",
    "\n",
    "To understand how the dataset is structured, examine the first 10 rows of the data."
   ]
  },
  {
   "cell_type": "code",
   "execution_count": 6,
   "id": "5499b4b1",
   "metadata": {
    "id": "ad5210a5-7a64-4991-b004-de818cfaf506"
   },
   "outputs": [
    {
     "data": {
      "text/html": [
       "<div>\n",
       "<style scoped>\n",
       "    .dataframe tbody tr th:only-of-type {\n",
       "        vertical-align: middle;\n",
       "    }\n",
       "\n",
       "    .dataframe tbody tr th {\n",
       "        vertical-align: top;\n",
       "    }\n",
       "\n",
       "    .dataframe thead th {\n",
       "        text-align: right;\n",
       "    }\n",
       "</style>\n",
       "<table border=\"1\" class=\"dataframe\">\n",
       "  <thead>\n",
       "    <tr style=\"text-align: right;\">\n",
       "      <th></th>\n",
       "      <th>Unnamed: 0</th>\n",
       "      <th>date_local</th>\n",
       "      <th>state_name</th>\n",
       "      <th>county_name</th>\n",
       "      <th>city_name</th>\n",
       "      <th>local_site_name</th>\n",
       "      <th>parameter_name</th>\n",
       "      <th>units_of_measure</th>\n",
       "      <th>arithmetic_mean</th>\n",
       "      <th>aqi</th>\n",
       "    </tr>\n",
       "  </thead>\n",
       "  <tbody>\n",
       "    <tr>\n",
       "      <th>0</th>\n",
       "      <td>0</td>\n",
       "      <td>2018-01-01</td>\n",
       "      <td>Arizona</td>\n",
       "      <td>Maricopa</td>\n",
       "      <td>Buckeye</td>\n",
       "      <td>BUCKEYE</td>\n",
       "      <td>Carbon monoxide</td>\n",
       "      <td>Parts per million</td>\n",
       "      <td>0.473684</td>\n",
       "      <td>7</td>\n",
       "    </tr>\n",
       "    <tr>\n",
       "      <th>1</th>\n",
       "      <td>1</td>\n",
       "      <td>2018-01-01</td>\n",
       "      <td>Ohio</td>\n",
       "      <td>Belmont</td>\n",
       "      <td>Shadyside</td>\n",
       "      <td>Shadyside</td>\n",
       "      <td>Carbon monoxide</td>\n",
       "      <td>Parts per million</td>\n",
       "      <td>0.263158</td>\n",
       "      <td>5</td>\n",
       "    </tr>\n",
       "    <tr>\n",
       "      <th>2</th>\n",
       "      <td>2</td>\n",
       "      <td>2018-01-01</td>\n",
       "      <td>Wyoming</td>\n",
       "      <td>Teton</td>\n",
       "      <td>Not in a city</td>\n",
       "      <td>Yellowstone National Park - Old Faithful Snow ...</td>\n",
       "      <td>Carbon monoxide</td>\n",
       "      <td>Parts per million</td>\n",
       "      <td>0.111111</td>\n",
       "      <td>2</td>\n",
       "    </tr>\n",
       "    <tr>\n",
       "      <th>3</th>\n",
       "      <td>3</td>\n",
       "      <td>2018-01-01</td>\n",
       "      <td>Pennsylvania</td>\n",
       "      <td>Philadelphia</td>\n",
       "      <td>Philadelphia</td>\n",
       "      <td>North East Waste (NEW)</td>\n",
       "      <td>Carbon monoxide</td>\n",
       "      <td>Parts per million</td>\n",
       "      <td>0.300000</td>\n",
       "      <td>3</td>\n",
       "    </tr>\n",
       "    <tr>\n",
       "      <th>4</th>\n",
       "      <td>4</td>\n",
       "      <td>2018-01-01</td>\n",
       "      <td>Iowa</td>\n",
       "      <td>Polk</td>\n",
       "      <td>Des Moines</td>\n",
       "      <td>CARPENTER</td>\n",
       "      <td>Carbon monoxide</td>\n",
       "      <td>Parts per million</td>\n",
       "      <td>0.215789</td>\n",
       "      <td>3</td>\n",
       "    </tr>\n",
       "    <tr>\n",
       "      <th>5</th>\n",
       "      <td>5</td>\n",
       "      <td>2018-01-01</td>\n",
       "      <td>Hawaii</td>\n",
       "      <td>Honolulu</td>\n",
       "      <td>Not in a city</td>\n",
       "      <td>Kapolei</td>\n",
       "      <td>Carbon monoxide</td>\n",
       "      <td>Parts per million</td>\n",
       "      <td>0.994737</td>\n",
       "      <td>14</td>\n",
       "    </tr>\n",
       "    <tr>\n",
       "      <th>6</th>\n",
       "      <td>6</td>\n",
       "      <td>2018-01-01</td>\n",
       "      <td>Hawaii</td>\n",
       "      <td>Honolulu</td>\n",
       "      <td>Not in a city</td>\n",
       "      <td>Kapolei</td>\n",
       "      <td>Carbon monoxide</td>\n",
       "      <td>Parts per million</td>\n",
       "      <td>0.200000</td>\n",
       "      <td>2</td>\n",
       "    </tr>\n",
       "    <tr>\n",
       "      <th>8</th>\n",
       "      <td>8</td>\n",
       "      <td>2018-01-01</td>\n",
       "      <td>Hawaii</td>\n",
       "      <td>Honolulu</td>\n",
       "      <td>Honolulu</td>\n",
       "      <td>Honolulu</td>\n",
       "      <td>Carbon monoxide</td>\n",
       "      <td>Parts per million</td>\n",
       "      <td>0.400000</td>\n",
       "      <td>5</td>\n",
       "    </tr>\n",
       "    <tr>\n",
       "      <th>9</th>\n",
       "      <td>9</td>\n",
       "      <td>2018-01-01</td>\n",
       "      <td>Colorado</td>\n",
       "      <td>Larimer</td>\n",
       "      <td>Fort Collins</td>\n",
       "      <td>Fort Collins - CSU - S. Mason</td>\n",
       "      <td>Carbon monoxide</td>\n",
       "      <td>Parts per million</td>\n",
       "      <td>0.300000</td>\n",
       "      <td>6</td>\n",
       "    </tr>\n",
       "    <tr>\n",
       "      <th>10</th>\n",
       "      <td>10</td>\n",
       "      <td>2018-01-01</td>\n",
       "      <td>Minnesota</td>\n",
       "      <td>Dakota</td>\n",
       "      <td>Rosemount</td>\n",
       "      <td>Flint Hills Refinery 420</td>\n",
       "      <td>Carbon monoxide</td>\n",
       "      <td>Parts per million</td>\n",
       "      <td>0.247368</td>\n",
       "      <td>3</td>\n",
       "    </tr>\n",
       "  </tbody>\n",
       "</table>\n",
       "</div>"
      ],
      "text/plain": [
       "    Unnamed: 0  date_local    state_name   county_name      city_name  \\\n",
       "0            0  2018-01-01       Arizona      Maricopa        Buckeye   \n",
       "1            1  2018-01-01          Ohio       Belmont      Shadyside   \n",
       "2            2  2018-01-01       Wyoming         Teton  Not in a city   \n",
       "3            3  2018-01-01  Pennsylvania  Philadelphia   Philadelphia   \n",
       "4            4  2018-01-01          Iowa          Polk     Des Moines   \n",
       "5            5  2018-01-01        Hawaii      Honolulu  Not in a city   \n",
       "6            6  2018-01-01        Hawaii      Honolulu  Not in a city   \n",
       "8            8  2018-01-01        Hawaii      Honolulu       Honolulu   \n",
       "9            9  2018-01-01      Colorado       Larimer   Fort Collins   \n",
       "10          10  2018-01-01     Minnesota        Dakota      Rosemount   \n",
       "\n",
       "                                      local_site_name   parameter_name  \\\n",
       "0                                             BUCKEYE  Carbon monoxide   \n",
       "1                                           Shadyside  Carbon monoxide   \n",
       "2   Yellowstone National Park - Old Faithful Snow ...  Carbon monoxide   \n",
       "3                              North East Waste (NEW)  Carbon monoxide   \n",
       "4                                           CARPENTER  Carbon monoxide   \n",
       "5                                             Kapolei  Carbon monoxide   \n",
       "6                                             Kapolei  Carbon monoxide   \n",
       "8                                            Honolulu  Carbon monoxide   \n",
       "9                       Fort Collins - CSU - S. Mason  Carbon monoxide   \n",
       "10                           Flint Hills Refinery 420  Carbon monoxide   \n",
       "\n",
       "     units_of_measure  arithmetic_mean  aqi  \n",
       "0   Parts per million         0.473684    7  \n",
       "1   Parts per million         0.263158    5  \n",
       "2   Parts per million         0.111111    2  \n",
       "3   Parts per million         0.300000    3  \n",
       "4   Parts per million         0.215789    3  \n",
       "5   Parts per million         0.994737   14  \n",
       "6   Parts per million         0.200000    2  \n",
       "8   Parts per million         0.400000    5  \n",
       "9   Parts per million         0.300000    6  \n",
       "10  Parts per million         0.247368    3  "
      ]
     },
     "execution_count": 6,
     "metadata": {},
     "output_type": "execute_result"
    }
   ],
   "source": [
    "# First 10 rows of the data\n",
    "\n",
    "Airquality.head(10)"
   ]
  },
  {
   "cell_type": "markdown",
   "id": "5aac65ea",
   "metadata": {
    "id": "nZHP_ZUSXDKh"
   },
   "source": []
  },
  {
   "cell_type": "markdown",
   "metadata": {
    "id": "7dac147e-19e1-49e7-bd80-e122390c3a70",
    "tags": []
   },
   "source": [
    "### Generate a table of descriptive statistics\n",
    "\n",
    "Generate a table of some descriptive statistics about the data. Specify that all columns of the input be included in the output."
   ]
  },
  {
   "cell_type": "code",
   "execution_count": 7,
   "id": "44bd1756",
   "metadata": {
    "id": "13f1c1dd-5637-4726-8fa0-2fbd838e4afa"
   },
   "outputs": [
    {
     "data": {
      "text/html": [
       "<div>\n",
       "<style scoped>\n",
       "    .dataframe tbody tr th:only-of-type {\n",
       "        vertical-align: middle;\n",
       "    }\n",
       "\n",
       "    .dataframe tbody tr th {\n",
       "        vertical-align: top;\n",
       "    }\n",
       "\n",
       "    .dataframe thead th {\n",
       "        text-align: right;\n",
       "    }\n",
       "</style>\n",
       "<table border=\"1\" class=\"dataframe\">\n",
       "  <thead>\n",
       "    <tr style=\"text-align: right;\">\n",
       "      <th></th>\n",
       "      <th>Unnamed: 0</th>\n",
       "      <th>date_local</th>\n",
       "      <th>state_name</th>\n",
       "      <th>county_name</th>\n",
       "      <th>city_name</th>\n",
       "      <th>local_site_name</th>\n",
       "      <th>parameter_name</th>\n",
       "      <th>units_of_measure</th>\n",
       "      <th>arithmetic_mean</th>\n",
       "      <th>aqi</th>\n",
       "    </tr>\n",
       "  </thead>\n",
       "  <tbody>\n",
       "    <tr>\n",
       "      <th>count</th>\n",
       "      <td>257.000000</td>\n",
       "      <td>257</td>\n",
       "      <td>257</td>\n",
       "      <td>257</td>\n",
       "      <td>257</td>\n",
       "      <td>257</td>\n",
       "      <td>257</td>\n",
       "      <td>257</td>\n",
       "      <td>257.000000</td>\n",
       "      <td>257.000000</td>\n",
       "    </tr>\n",
       "    <tr>\n",
       "      <th>unique</th>\n",
       "      <td>NaN</td>\n",
       "      <td>1</td>\n",
       "      <td>51</td>\n",
       "      <td>148</td>\n",
       "      <td>188</td>\n",
       "      <td>253</td>\n",
       "      <td>1</td>\n",
       "      <td>1</td>\n",
       "      <td>NaN</td>\n",
       "      <td>NaN</td>\n",
       "    </tr>\n",
       "    <tr>\n",
       "      <th>top</th>\n",
       "      <td>NaN</td>\n",
       "      <td>2018-01-01</td>\n",
       "      <td>California</td>\n",
       "      <td>Los Angeles</td>\n",
       "      <td>Not in a city</td>\n",
       "      <td>Kapolei</td>\n",
       "      <td>Carbon monoxide</td>\n",
       "      <td>Parts per million</td>\n",
       "      <td>NaN</td>\n",
       "      <td>NaN</td>\n",
       "    </tr>\n",
       "    <tr>\n",
       "      <th>freq</th>\n",
       "      <td>NaN</td>\n",
       "      <td>257</td>\n",
       "      <td>66</td>\n",
       "      <td>14</td>\n",
       "      <td>21</td>\n",
       "      <td>2</td>\n",
       "      <td>257</td>\n",
       "      <td>257</td>\n",
       "      <td>NaN</td>\n",
       "      <td>NaN</td>\n",
       "    </tr>\n",
       "    <tr>\n",
       "      <th>mean</th>\n",
       "      <td>129.766537</td>\n",
       "      <td>NaN</td>\n",
       "      <td>NaN</td>\n",
       "      <td>NaN</td>\n",
       "      <td>NaN</td>\n",
       "      <td>NaN</td>\n",
       "      <td>NaN</td>\n",
       "      <td>NaN</td>\n",
       "      <td>0.404578</td>\n",
       "      <td>6.782101</td>\n",
       "    </tr>\n",
       "    <tr>\n",
       "      <th>std</th>\n",
       "      <td>74.675286</td>\n",
       "      <td>NaN</td>\n",
       "      <td>NaN</td>\n",
       "      <td>NaN</td>\n",
       "      <td>NaN</td>\n",
       "      <td>NaN</td>\n",
       "      <td>NaN</td>\n",
       "      <td>NaN</td>\n",
       "      <td>0.319311</td>\n",
       "      <td>7.091422</td>\n",
       "    </tr>\n",
       "    <tr>\n",
       "      <th>min</th>\n",
       "      <td>0.000000</td>\n",
       "      <td>NaN</td>\n",
       "      <td>NaN</td>\n",
       "      <td>NaN</td>\n",
       "      <td>NaN</td>\n",
       "      <td>NaN</td>\n",
       "      <td>NaN</td>\n",
       "      <td>NaN</td>\n",
       "      <td>0.000000</td>\n",
       "      <td>0.000000</td>\n",
       "    </tr>\n",
       "    <tr>\n",
       "      <th>25%</th>\n",
       "      <td>66.000000</td>\n",
       "      <td>NaN</td>\n",
       "      <td>NaN</td>\n",
       "      <td>NaN</td>\n",
       "      <td>NaN</td>\n",
       "      <td>NaN</td>\n",
       "      <td>NaN</td>\n",
       "      <td>NaN</td>\n",
       "      <td>0.200000</td>\n",
       "      <td>2.000000</td>\n",
       "    </tr>\n",
       "    <tr>\n",
       "      <th>50%</th>\n",
       "      <td>130.000000</td>\n",
       "      <td>NaN</td>\n",
       "      <td>NaN</td>\n",
       "      <td>NaN</td>\n",
       "      <td>NaN</td>\n",
       "      <td>NaN</td>\n",
       "      <td>NaN</td>\n",
       "      <td>NaN</td>\n",
       "      <td>0.278947</td>\n",
       "      <td>5.000000</td>\n",
       "    </tr>\n",
       "    <tr>\n",
       "      <th>75%</th>\n",
       "      <td>194.000000</td>\n",
       "      <td>NaN</td>\n",
       "      <td>NaN</td>\n",
       "      <td>NaN</td>\n",
       "      <td>NaN</td>\n",
       "      <td>NaN</td>\n",
       "      <td>NaN</td>\n",
       "      <td>NaN</td>\n",
       "      <td>0.516667</td>\n",
       "      <td>9.000000</td>\n",
       "    </tr>\n",
       "    <tr>\n",
       "      <th>max</th>\n",
       "      <td>259.000000</td>\n",
       "      <td>NaN</td>\n",
       "      <td>NaN</td>\n",
       "      <td>NaN</td>\n",
       "      <td>NaN</td>\n",
       "      <td>NaN</td>\n",
       "      <td>NaN</td>\n",
       "      <td>NaN</td>\n",
       "      <td>1.921053</td>\n",
       "      <td>50.000000</td>\n",
       "    </tr>\n",
       "  </tbody>\n",
       "</table>\n",
       "</div>"
      ],
      "text/plain": [
       "        Unnamed: 0  date_local  state_name  county_name      city_name  \\\n",
       "count   257.000000         257         257          257            257   \n",
       "unique         NaN           1          51          148            188   \n",
       "top            NaN  2018-01-01  California  Los Angeles  Not in a city   \n",
       "freq           NaN         257          66           14             21   \n",
       "mean    129.766537         NaN         NaN          NaN            NaN   \n",
       "std      74.675286         NaN         NaN          NaN            NaN   \n",
       "min       0.000000         NaN         NaN          NaN            NaN   \n",
       "25%      66.000000         NaN         NaN          NaN            NaN   \n",
       "50%     130.000000         NaN         NaN          NaN            NaN   \n",
       "75%     194.000000         NaN         NaN          NaN            NaN   \n",
       "max     259.000000         NaN         NaN          NaN            NaN   \n",
       "\n",
       "       local_site_name   parameter_name   units_of_measure  arithmetic_mean  \\\n",
       "count              257              257                257       257.000000   \n",
       "unique             253                1                  1              NaN   \n",
       "top            Kapolei  Carbon monoxide  Parts per million              NaN   \n",
       "freq                 2              257                257              NaN   \n",
       "mean               NaN              NaN                NaN         0.404578   \n",
       "std                NaN              NaN                NaN         0.319311   \n",
       "min                NaN              NaN                NaN         0.000000   \n",
       "25%                NaN              NaN                NaN         0.200000   \n",
       "50%                NaN              NaN                NaN         0.278947   \n",
       "75%                NaN              NaN                NaN         0.516667   \n",
       "max                NaN              NaN                NaN         1.921053   \n",
       "\n",
       "               aqi  \n",
       "count   257.000000  \n",
       "unique         NaN  \n",
       "top            NaN  \n",
       "freq           NaN  \n",
       "mean      6.782101  \n",
       "std       7.091422  \n",
       "min       0.000000  \n",
       "25%       2.000000  \n",
       "50%       5.000000  \n",
       "75%       9.000000  \n",
       "max      50.000000  "
      ]
     },
     "execution_count": 7,
     "metadata": {},
     "output_type": "execute_result"
    }
   ],
   "source": [
    "# Code Here\n",
    "Airquality.describe(include=\"all\")"
   ]
  },
  {
   "cell_type": "markdown",
   "metadata": {
    "id": "584fa1b2"
   },
   "source": [
    "**Question:** Based on the preceding table of descriptive statistics, what is the mean value of the `aqi` column? "
   ]
  },
  {
   "cell_type": "markdown",
   "metadata": {
    "id": "DoQA-TKWXIJ-"
   },
   "source": [
    "A: It is 6.782"
   ]
  },
  {
   "cell_type": "markdown",
   "metadata": {
    "id": "a70475eb-d3a6-42e4-8b71-a49b5a1aa0db"
   },
   "source": [
    "**Question:** Based on the preceding table of descriptive statistics, what do you notice about the count value for the `aqi` column?"
   ]
  },
  {
   "cell_type": "markdown",
   "metadata": {
    "id": "KIIg5Bd4XJ3M"
   },
   "source": [
    "A: It is 257. This means that there are no missing values for this column"
   ]
  },
  {
   "cell_type": "markdown",
   "metadata": {
    "id": "5464fa18-f969-4e1e-8539-9b2d9a11766d",
    "tags": []
   },
   "source": [
    "### Use the `mean()` function on the `aqi`  column\n",
    "\n",
    "Now, use the `mean()` function on the `aqi`  column and assign the value to a variable `population_mean`. The value should be the same as the one generated by the `describe()` method in the above table. "
   ]
  },
  {
   "cell_type": "code",
   "execution_count": 8,
   "id": "01f7a589",
   "metadata": {
    "id": "678346a1-bc1a-40be-850a-c03488970604"
   },
   "outputs": [
    {
     "name": "stdout",
     "output_type": "stream",
     "text": [
      "6.782101167315175\n"
     ]
    }
   ],
   "source": [
    "# Code Here\n",
    "population_mean = Airquality['aqi'].mean()\n",
    "print(population_mean)"
   ]
  },
  {
   "cell_type": "markdown",
   "metadata": {
    "id": "990595d9"
   },
   "source": [
    "## Step 3: Statistical tests"
   ]
  },
  {
   "cell_type": "markdown",
   "metadata": {
    "id": "tejiqD0O7e3p"
   },
   "source": [
    "### Sample with replacement\n",
    "\n",
    "First, name a new variable `sampled_data`. Then, use the `sample()` dataframe method to draw 50 samples from `epa_data`. Set `replace` equal to `'True'` to specify sampling with replacement. For `random_state`, choose an arbitrary number for random seed. Make that arbitrary number `42`."
   ]
  },
  {
   "cell_type": "code",
   "execution_count": 9,
   "id": "0a749c15",
   "metadata": {
    "id": "e4bceb0a"
   },
   "outputs": [
    {
     "name": "stdout",
     "output_type": "stream",
     "text": [
      "     Unnamed: 0  date_local      state_name            county_name  \\\n",
      "104         104  2018-01-01         Arizona                   Pima   \n",
      "108         108  2018-01-01    North Dakota               Burleigh   \n",
      "73           73  2018-01-01       Minnesota                 Dakota   \n",
      "190         190  2018-01-01      California                 Madera   \n",
      "21           21  2018-01-01            Iowa                   Linn   \n",
      "104         104  2018-01-01         Arizona                   Pima   \n",
      "123         123  2018-01-01        Michigan                  Wayne   \n",
      "216         216  2018-01-01         Indiana            Vanderburgh   \n",
      "89           89  2018-01-01        Maryland                 Howard   \n",
      "101         101  2018-01-01    Pennsylvania                  Adams   \n",
      "153         153  2018-01-01           Texas                  Bexar   \n",
      "132         132  2018-01-01      California            Los Angeles   \n",
      "151         151  2018-01-01      California                 Orange   \n",
      "193         193  2018-01-01        Virginia           Hampton City   \n",
      "162         162  2018-01-01      New Mexico             Bernalillo   \n",
      "22           22  2018-01-01            Ohio                  Stark   \n",
      "254         254  2018-01-01         Arizona                   Pima   \n",
      "237         237  2018-01-01      New Mexico             Bernalillo   \n",
      "49           49  2018-01-01       Tennessee                 Shelby   \n",
      "60           60  2018-01-01            Iowa                  Scott   \n",
      "171         171  2018-01-01      California                   Inyo   \n",
      "189         189  2018-01-01      California            Los Angeles   \n",
      "191         191  2018-01-01            Ohio               Franklin   \n",
      "176         176  2018-01-01      California           Contra Costa   \n",
      "51           51  2018-01-01            Ohio                 Summit   \n",
      "56           56  2018-01-01        Colorado                 Denver   \n",
      "245         245  2018-01-01     Connecticut              Fairfield   \n",
      "132         132  2018-01-01      California            Los Angeles   \n",
      "136         136  2018-01-01    Pennsylvania                   York   \n",
      "21           21  2018-01-01            Iowa                   Linn   \n",
      "168         168  2018-01-01        Illinois            Saint Clair   \n",
      "90           90  2018-01-01        New York                   Erie   \n",
      "14           14  2018-01-01        Missouri                Jackson   \n",
      "243         243  2018-01-01          Alaska  Fairbanks North Star    \n",
      "53           53  2018-01-01    South Dakota              Minnehaha   \n",
      "93           93  2018-01-01        Oklahoma               Oklahoma   \n",
      "35           35  2018-01-01       Minnesota                  Anoka   \n",
      "207         207  2018-01-01        Michigan                  Wayne   \n",
      "82           82  2018-01-01         Wyoming                Laramie   \n",
      "50           50  2018-01-01         Georgia                 DeKalb   \n",
      "1             1  2018-01-01            Ohio                Belmont   \n",
      "54           54  2018-01-01  North Carolina            Mecklenburg   \n",
      "107         107  2018-01-01    Pennsylvania              Allegheny   \n",
      "192         192  2018-01-01        Michigan                  Wayne   \n",
      "219         219  2018-01-01         Indiana                 Marion   \n",
      "44           44  2018-01-01        Virginia              Arlington   \n",
      "163         163  2018-01-01      California            Los Angeles   \n",
      "203         203  2018-01-01      California          Santa Barbara   \n",
      "216         216  2018-01-01         Indiana            Vanderburgh   \n",
      "253         253  2018-01-01          Oregon             Washington   \n",
      "\n",
      "                    city_name  \\\n",
      "104                    Tucson   \n",
      "108                  Bismarck   \n",
      "73                  Lakeville   \n",
      "190                    Madera   \n",
      "21               Cedar Rapids   \n",
      "104                    Tucson   \n",
      "123                   Detroit   \n",
      "216                Evansville   \n",
      "89               North Laurel   \n",
      "101             Not in a city   \n",
      "153               San Antonio   \n",
      "132                   Compton   \n",
      "151                   Anaheim   \n",
      "193                   Hampton   \n",
      "162               Albuquerque   \n",
      "22                     Canton   \n",
      "254                    Tucson   \n",
      "237              South Valley   \n",
      "49                    Memphis   \n",
      "60                  Davenport   \n",
      "171             Not in a city   \n",
      "189                    Pomona   \n",
      "191                  Columbus   \n",
      "176             Bethel Island   \n",
      "51                      Akron   \n",
      "56                     Denver   \n",
      "245                Bridgeport   \n",
      "132                   Compton   \n",
      "136                      York   \n",
      "21               Cedar Rapids   \n",
      "168          East Saint Louis   \n",
      "90                Cheektowaga   \n",
      "14                Kansas City   \n",
      "243                 Fairbanks   \n",
      "53                Sioux Falls   \n",
      "93              Oklahoma City   \n",
      "35                     Blaine   \n",
      "207             Not in a city   \n",
      "82              Not in a city   \n",
      "50              Not in a city   \n",
      "1                   Shadyside   \n",
      "54                  Charlotte   \n",
      "107               Wilkinsburg   \n",
      "192                Allen Park   \n",
      "219  Indianapolis (Remainder)   \n",
      "44                  Arlington   \n",
      "163                     Azusa   \n",
      "203               Santa Maria   \n",
      "216                Evansville   \n",
      "253                  Tualatin   \n",
      "\n",
      "                                       local_site_name   parameter_name  \\\n",
      "104                                    22ND & ALVERNON  Carbon monoxide   \n",
      "108                               BISMARCK RESIDENTIAL  Carbon monoxide   \n",
      "73                                      Near Road I-35  Carbon monoxide   \n",
      "190                                   Madera-Pump Yard  Carbon monoxide   \n",
      "21                                       Public Health  Carbon monoxide   \n",
      "104                                    22ND & ALVERNON  Carbon monoxide   \n",
      "123                           MARK TWAIN MIDDLE SCHOOL  Carbon monoxide   \n",
      "216                                  Evansville- Lloyd  Carbon monoxide   \n",
      "89                             Howard County Near Road  Carbon monoxide   \n",
      "101                           NARSTO SITE ARENDTSVILLE  Carbon monoxide   \n",
      "153                          San Antonio Interstate 35  Carbon monoxide   \n",
      "132                                            Compton  Carbon monoxide   \n",
      "151                                            Anaheim  Carbon monoxide   \n",
      "193                       NASA Langley Research Center  Carbon monoxide   \n",
      "162                              DEL NORTE HIGH SCHOOL  Carbon monoxide   \n",
      "22                                              Canton  Carbon monoxide   \n",
      "254                                     CHERRY & GLENN  Carbon monoxide   \n",
      "237                                       SOUTH VALLEY  Carbon monoxide   \n",
      "49                                  Memphis NCORE site  Carbon monoxide   \n",
      "60                           DAVENPORT, JEFFERSON SCH.  Carbon monoxide   \n",
      "171  White Mountain Research Center - Owens Valley Lab  Carbon monoxide   \n",
      "189                                             Pomona  Carbon monoxide   \n",
      "191                                Smoky Row Near Road  Carbon monoxide   \n",
      "176                                      Bethel Island  Carbon monoxide   \n",
      "51                                        NIHF STEM MS  Carbon monoxide   \n",
      "56                                                I-25  Carbon monoxide   \n",
      "245                        Roosevelt School-Bridgeport  Carbon monoxide   \n",
      "132                                            Compton  Carbon monoxide   \n",
      "136       A421330008LAT/LON POINT AT CORNER OF TRAILER  Carbon monoxide   \n",
      "21                                       Public Health  Carbon monoxide   \n",
      "168                                  IEPA-RAPS TRAILER  Carbon monoxide   \n",
      "90                                   Buffalo Near-Road  Carbon monoxide   \n",
      "14                                    Blue Ridge, I-70  Carbon monoxide   \n",
      "243                                              NCORE  Carbon monoxide   \n",
      "53                              SD School for the Deaf  Carbon monoxide   \n",
      "93                                           Near Road  Carbon monoxide   \n",
      "35                                Anoka County Airport  Carbon monoxide   \n",
      "207                                     Eliza Downwind  Carbon monoxide   \n",
      "82                                      Cheyenne NCore  Carbon monoxide   \n",
      "50                                        South DeKalb  Carbon monoxide   \n",
      "1                                            Shadyside  Carbon monoxide   \n",
      "54                                             Remount  Carbon monoxide   \n",
      "107                             Parkway East Near-Road  Carbon monoxide   \n",
      "192                                         Allen Park  Carbon monoxide   \n",
      "219                                      Indpls.- I 70  Carbon monoxide   \n",
      "44                        Aurora Hills Visitors Center  Carbon monoxide   \n",
      "163                                              Azusa  Carbon monoxide   \n",
      "203                                        Santa Maria  Carbon monoxide   \n",
      "216                                  Evansville- Lloyd  Carbon monoxide   \n",
      "253     Tualatin Bradbury Court (TBC) - Near Road Site  Carbon monoxide   \n",
      "\n",
      "      units_of_measure  arithmetic_mean  aqi  \n",
      "104  Parts per million         0.168421    3  \n",
      "108  Parts per million         0.200000    2  \n",
      "73   Parts per million         0.200000    2  \n",
      "190  Parts per million         0.347368    5  \n",
      "21   Parts per million         0.100000    1  \n",
      "104  Parts per million         0.168421    3  \n",
      "123  Parts per million         0.515789    9  \n",
      "216  Parts per million         0.200000    2  \n",
      "89   Parts per million         0.215789    3  \n",
      "101  Parts per million         0.144444    2  \n",
      "153  Parts per million         0.252632    3  \n",
      "132  Parts per million         1.742105   40  \n",
      "151  Parts per million         0.694737   11  \n",
      "193  Parts per million         0.215789    3  \n",
      "162  Parts per million         0.247368    7  \n",
      "22   Parts per million         0.394737    6  \n",
      "254  Parts per million         0.563158   14  \n",
      "237  Parts per million         0.231579    5  \n",
      "49   Parts per million         0.100000    1  \n",
      "60   Parts per million         0.200000    2  \n",
      "171  Parts per million         0.100000    1  \n",
      "189  Parts per million         1.000000   20  \n",
      "191  Parts per million         0.115789    2  \n",
      "176  Parts per million         0.511111    7  \n",
      "51   Parts per million         0.083333    3  \n",
      "56   Parts per million         0.478947    7  \n",
      "245  Parts per million         0.261111    5  \n",
      "132  Parts per million         1.742105   40  \n",
      "136  Parts per million         0.000000    0  \n",
      "21   Parts per million         0.100000    1  \n",
      "168  Parts per million         0.200000    2  \n",
      "90   Parts per million         0.252632    3  \n",
      "14   Parts per million         0.233333    5  \n",
      "243  Parts per million         0.557895    8  \n",
      "53   Parts per million         0.242105    5  \n",
      "93   Parts per million         0.284211    5  \n",
      "35   Parts per million         0.200000    2  \n",
      "207  Parts per million         0.516667   10  \n",
      "82   Parts per million         0.200000    2  \n",
      "50   Parts per million         0.200000    2  \n",
      "1    Parts per million         0.263158    5  \n",
      "54   Parts per million         0.200000    2  \n",
      "107  Parts per million         0.455556    6  \n",
      "192  Parts per million         0.811111   13  \n",
      "219  Parts per million         0.231579    3  \n",
      "44   Parts per million         0.352632    5  \n",
      "163  Parts per million         0.673684   10  \n",
      "203  Parts per million         0.227778    3  \n",
      "216  Parts per million         0.200000    2  \n",
      "253  Parts per million         0.100000    1  \n"
     ]
    }
   ],
   "source": [
    "# Code Here\n",
    "\n",
    "sampled_data = Airquality.sample(n=50, replace=True, random_state=42)\n",
    "\n",
    "print(sampled_data)"
   ]
  },
  {
   "cell_type": "markdown",
   "metadata": {
    "id": "dcca386d"
   },
   "source": [
    "### Output the first 10 rows\n",
    "\n",
    "Output the first 10 rows of the DataFrame. "
   ]
  },
  {
   "cell_type": "code",
   "execution_count": 10,
   "id": "567bc4de",
   "metadata": {
    "id": "63d5d4d5"
   },
   "outputs": [
    {
     "name": "stdout",
     "output_type": "stream",
     "text": [
      "     Unnamed: 0  date_local    state_name  county_name      city_name  \\\n",
      "104         104  2018-01-01       Arizona         Pima         Tucson   \n",
      "108         108  2018-01-01  North Dakota     Burleigh       Bismarck   \n",
      "73           73  2018-01-01     Minnesota       Dakota      Lakeville   \n",
      "190         190  2018-01-01    California       Madera         Madera   \n",
      "21           21  2018-01-01          Iowa         Linn   Cedar Rapids   \n",
      "104         104  2018-01-01       Arizona         Pima         Tucson   \n",
      "123         123  2018-01-01      Michigan        Wayne        Detroit   \n",
      "216         216  2018-01-01       Indiana  Vanderburgh     Evansville   \n",
      "89           89  2018-01-01      Maryland       Howard   North Laurel   \n",
      "101         101  2018-01-01  Pennsylvania        Adams  Not in a city   \n",
      "\n",
      "              local_site_name   parameter_name   units_of_measure  \\\n",
      "104           22ND & ALVERNON  Carbon monoxide  Parts per million   \n",
      "108      BISMARCK RESIDENTIAL  Carbon monoxide  Parts per million   \n",
      "73             Near Road I-35  Carbon monoxide  Parts per million   \n",
      "190          Madera-Pump Yard  Carbon monoxide  Parts per million   \n",
      "21              Public Health  Carbon monoxide  Parts per million   \n",
      "104           22ND & ALVERNON  Carbon monoxide  Parts per million   \n",
      "123  MARK TWAIN MIDDLE SCHOOL  Carbon monoxide  Parts per million   \n",
      "216         Evansville- Lloyd  Carbon monoxide  Parts per million   \n",
      "89    Howard County Near Road  Carbon monoxide  Parts per million   \n",
      "101  NARSTO SITE ARENDTSVILLE  Carbon monoxide  Parts per million   \n",
      "\n",
      "     arithmetic_mean  aqi  \n",
      "104         0.168421    3  \n",
      "108         0.200000    2  \n",
      "73          0.200000    2  \n",
      "190         0.347368    5  \n",
      "21          0.100000    1  \n",
      "104         0.168421    3  \n",
      "123         0.515789    9  \n",
      "216         0.200000    2  \n",
      "89          0.215789    3  \n",
      "101         0.144444    2  \n"
     ]
    }
   ],
   "source": [
    "# Code Here\n",
    "\n",
    "print(sampled_data.head(10))"
   ]
  },
  {
   "cell_type": "markdown",
   "metadata": {
    "id": "ea32e0f9"
   },
   "source": [
    "**Question:** In the DataFrame output, why is the row index 102 repeated twice? "
   ]
  },
  {
   "cell_type": "markdown",
   "metadata": {
    "id": "PFcAQ7kQXQGa"
   },
   "source": [
    "A: Row 104 is repeated twice because we have replace = true which causes the same row to be repeated multiple times"
   ]
  },
  {
   "cell_type": "markdown",
   "metadata": {
    "id": "39c3bf7d"
   },
   "source": [
    "**Question:** What does `random_state` do?"
   ]
  },
  {
   "cell_type": "markdown",
   "metadata": {
    "id": "6gVu0BaTXSlI"
   },
   "source": [
    "A: It causes python to stat the random number generator in a predictable way and hence I will get the same result consistently"
   ]
  },
  {
   "cell_type": "markdown",
   "metadata": {
    "id": "eed77707"
   },
   "source": [
    "### Compute the mean value from the `aqi` column\n",
    "\n",
    "Compute the mean value from the `aqi` column in `sampled_data` and assign the value to the variable `sample_mean`."
   ]
  },
  {
   "cell_type": "code",
   "execution_count": 11,
   "id": "63cfe3a3",
   "metadata": {
    "id": "eccca24f"
   },
   "outputs": [
    {
     "name": "stdout",
     "output_type": "stream",
     "text": [
      "6.08\n"
     ]
    }
   ],
   "source": [
    "# Code Here\n",
    "\n",
    "sample_mean = sampled_data['aqi'].mean()\n",
    "\n",
    "print(sample_mean)"
   ]
  },
  {
   "cell_type": "markdown",
   "metadata": {},
   "source": [
    "You have a 95% confidence interval for the mean district literacy rate that stretches from about X % to Y%. \n",
    "\n",
    "95% CI: (X, Y)"
   ]
  },
  {
   "cell_type": "markdown",
   "metadata": {
    "id": "dffa05d1"
   },
   "source": [
    " **Question:**  Why is `sample_mean` different from `population_mean`?\n"
   ]
  },
  {
   "cell_type": "markdown",
   "metadata": {
    "id": "IWOwRNYsXVDL"
   },
   "source": [
    "A: Because they represent different subsets of data and are not perfect samples of each other hence causing different staistical properties"
   ]
  },
  {
   "cell_type": "markdown",
   "metadata": {
    "id": "83526f10"
   },
   "source": [
    "### Apply the central limit theorem\n",
    "\n",
    "Imagine repeating the the earlier sample with replacement 10,000 times and obtaining 10,000 point estimates of the mean. In other words, imagine taking 10,000 random samples of 50 AQI values and computing the mean for each sample. According to the **central limit theorem**, the mean of a sampling distribution should be roughly equal to the population mean. Complete the following steps to compute the mean of the sampling distribution with 10,000 samples. \n",
    "\n",
    "* Create an empty list and assign it to a variable called `estimate_list`. \n",
    "* Iterate through a `for` loop 10,000 times. To do this, make sure to utilize the `range()` function to generate a sequence of numbers from 0 to 9,999. \n",
    "* In each iteration of the loop, use the `sample()` function to take a random sample (with replacement) of 50 AQI values from the population. Do not set `random_state` to a value.\n",
    "* Use the list `append()` function to add the value of the sample `mean` to each item in the list.\n"
   ]
  },
  {
   "cell_type": "code",
   "execution_count": 12,
   "id": "5ed315d0",
   "metadata": {
    "id": "192b9d77"
   },
   "outputs": [],
   "source": [
    "# Code Here\n",
    "estimate_list = []\n",
    "for i in range(10000):\n",
    "    estimate_list.append(Airquality['aqi'].sample(n=50, replace=True).mean())\n"
   ]
  },
  {
   "cell_type": "markdown",
   "metadata": {
    "id": "bbcc624a"
   },
   "source": [
    "### Create a new DataFrame\n",
    "\n",
    "Next, create a new DataFrame from the list of 10,000 estimates. Name the new variable `estimate_df`."
   ]
  },
  {
   "cell_type": "code",
   "execution_count": 13,
   "id": "6e263a45",
   "metadata": {
    "id": "59878c6b"
   },
   "outputs": [],
   "source": [
    "# Code Here\n",
    "estimate_df = pd.DataFrame(data={'estimate': estimate_list})"
   ]
  },
  {
   "cell_type": "markdown",
   "metadata": {
    "id": "1a2d1b98"
   },
   "source": [
    "### Compute the mean() of the sampling distribution\n",
    "\n",
    "Next, compute the `mean()` of the sampling distribution of 10,000 random samples and store the result in a new variable `mean_sample_means`."
   ]
  },
  {
   "cell_type": "code",
   "execution_count": 14,
   "id": "b05a986c",
   "metadata": {
    "id": "c21cce9c"
   },
   "outputs": [],
   "source": [
    "# Code Here\n",
    "\n",
    "mean_sample_means = estimate_df['estimate'].mean()\n"
   ]
  },
  {
   "cell_type": "markdown",
   "metadata": {
    "id": "8a5939d9"
   },
   "source": [
    "**Question:** What is the mean for the sampling distribution of 10,000 random samples?"
   ]
  },
  {
   "cell_type": "code",
   "execution_count": 15,
   "id": "d55769f9",
   "metadata": {
    "id": "hpyqcQ93XeEU"
   },
   "outputs": [
    {
     "name": "stdout",
     "output_type": "stream",
     "text": [
      "6.798032000000001\n"
     ]
    }
   ],
   "source": [
    "# Code Here\n",
    "print(mean_sample_means)"
   ]
  },
  {
   "cell_type": "markdown",
   "metadata": {
    "id": "4c8ab4ca"
   },
   "source": [
    "**Question:** How are the central limit theorem and random sampling (with replacement) related?"
   ]
  },
  {
   "cell_type": "markdown",
   "id": "26f48105",
   "metadata": {},
   "source": [
    "A: Random sampling with replacement allows us to collect the samples necessary to eventually form the cnetral limit theorem"
   ]
  },
  {
   "cell_type": "markdown",
   "metadata": {
    "id": "yk68WKLcXiJn"
   },
   "source": [
    "A:"
   ]
  },
  {
   "cell_type": "markdown",
   "metadata": {
    "id": "ff41cd55"
   },
   "source": [
    "### Output the distribution using a histogram\n",
    "\n",
    "Output the distribution of these estimates using a histogram. This provides an idea of the sampling distribution."
   ]
  },
  {
   "cell_type": "code",
   "execution_count": 16,
   "id": "96d8bc4f",
   "metadata": {
    "id": "e0e6aedd"
   },
   "outputs": [
    {
     "data": {
      "image/png": "[encoded data removed]",
      "text/plain": [
       "<Figure size 640x480 with 1 Axes>"
      ]
     },
     "metadata": {},
     "output_type": "display_data"
    }
   ],
   "source": [
    "plt.hist(estimate_df['estimate'], bins=25, density=True, alpha=0.4, label = \"histogram of sample means of 10000 random samples\")\n",
    "xmin, xmax = plt.xlim()\n",
    "x = np.linspace(xmin, xmax, 100) # generate a grid of 100 values from xmin to xmax.\n",
    "p = stats.norm.pdf(x, mean_sample_means, stats.tstd(estimate_df['estimate']))\n",
    "plt.plot(x, p,'k', linewidth=2, label = 'normal curve from central limit theorem')\n",
    "plt.axvline(x=population_mean, color='g', linestyle = 'solid', label = 'population mean')\n",
    "plt.axvline(x=sample_mean, color='r', linestyle = '--', label = 'sample mean of the first random sample')\n",
    "plt.axvline(x=mean_sample_means, color='b', linestyle = ':', label = 'mean of sample means of 10000 random samples')\n",
    "plt.title(\"Sampling distribution of sample mean\")\n",
    "plt.xlabel('sample mean')\n",
    "plt.ylabel('density')\n",
    "plt.legend(bbox_to_anchor=(1.04,1))\n",
    "plt.show()"
   ]
  },
  {
   "cell_type": "markdown",
   "metadata": {
    "id": "c740a062"
   },
   "source": [
    "### Calculate the standard error\n",
    "\n",
    "Calculate the standard error of the mean AQI using the initial sample of 50. The **standard error** of a statistic measures the sample-to-sample variability of the sample statistic. It provides a numerical measure of sampling variability and answers the question: How far is a statistic based on one particular sample from the actual value of the statistic?"
   ]
  },
  {
   "cell_type": "code",
   "execution_count": 17,
   "id": "27b337d8",
   "metadata": {
    "id": "74e6b4e9"
   },
   "outputs": [
    {
     "name": "stdout",
     "output_type": "stream",
     "text": [
      "Standard Error: 1.1313131254233295\n"
     ]
    }
   ],
   "source": [
    "# Code Here\n",
    "\n",
    "import numpy as np\n",
    "\n",
    "# Calculate the standard deviation of the sample\n",
    "sample_std = sampled_data['aqi'].std()\n",
    "\n",
    "# Calculate standard error\n",
    "standard_error = sample_std / np.sqrt(50)\n",
    "\n",
    "# Print\n",
    "print(\"Standard Error:\", standard_error)"
   ]
  },
  {
   "cell_type": "code",
   "execution_count": 18,
   "id": "35588378",
   "metadata": {},
   "outputs": [
    {
     "data": {
      "text/html": [
       "<div>\n",
       "<style scoped>\n",
       "    .dataframe tbody tr th:only-of-type {\n",
       "        vertical-align: middle;\n",
       "    }\n",
       "\n",
       "    .dataframe tbody tr th {\n",
       "        vertical-align: top;\n",
       "    }\n",
       "\n",
       "    .dataframe thead th {\n",
       "        text-align: right;\n",
       "    }\n",
       "</style>\n",
       "<table border=\"1\" class=\"dataframe\">\n",
       "  <thead>\n",
       "    <tr style=\"text-align: right;\">\n",
       "      <th></th>\n",
       "      <th>Unnamed: 0</th>\n",
       "      <th>date_local</th>\n",
       "      <th>state_name</th>\n",
       "      <th>county_name</th>\n",
       "      <th>city_name</th>\n",
       "      <th>local_site_name</th>\n",
       "      <th>parameter_name</th>\n",
       "      <th>units_of_measure</th>\n",
       "      <th>arithmetic_mean</th>\n",
       "      <th>aqi</th>\n",
       "    </tr>\n",
       "  </thead>\n",
       "  <tbody>\n",
       "    <tr>\n",
       "      <th>0</th>\n",
       "      <td>0</td>\n",
       "      <td>2018-01-01</td>\n",
       "      <td>Arizona</td>\n",
       "      <td>Maricopa</td>\n",
       "      <td>Buckeye</td>\n",
       "      <td>BUCKEYE</td>\n",
       "      <td>Carbon monoxide</td>\n",
       "      <td>Parts per million</td>\n",
       "      <td>0.473684</td>\n",
       "      <td>7</td>\n",
       "    </tr>\n",
       "    <tr>\n",
       "      <th>1</th>\n",
       "      <td>1</td>\n",
       "      <td>2018-01-01</td>\n",
       "      <td>Ohio</td>\n",
       "      <td>Belmont</td>\n",
       "      <td>Shadyside</td>\n",
       "      <td>Shadyside</td>\n",
       "      <td>Carbon monoxide</td>\n",
       "      <td>Parts per million</td>\n",
       "      <td>0.263158</td>\n",
       "      <td>5</td>\n",
       "    </tr>\n",
       "    <tr>\n",
       "      <th>2</th>\n",
       "      <td>2</td>\n",
       "      <td>2018-01-01</td>\n",
       "      <td>Wyoming</td>\n",
       "      <td>Teton</td>\n",
       "      <td>Not in a city</td>\n",
       "      <td>Yellowstone National Park - Old Faithful Snow ...</td>\n",
       "      <td>Carbon monoxide</td>\n",
       "      <td>Parts per million</td>\n",
       "      <td>0.111111</td>\n",
       "      <td>2</td>\n",
       "    </tr>\n",
       "    <tr>\n",
       "      <th>3</th>\n",
       "      <td>3</td>\n",
       "      <td>2018-01-01</td>\n",
       "      <td>Pennsylvania</td>\n",
       "      <td>Philadelphia</td>\n",
       "      <td>Philadelphia</td>\n",
       "      <td>North East Waste (NEW)</td>\n",
       "      <td>Carbon monoxide</td>\n",
       "      <td>Parts per million</td>\n",
       "      <td>0.300000</td>\n",
       "      <td>3</td>\n",
       "    </tr>\n",
       "    <tr>\n",
       "      <th>4</th>\n",
       "      <td>4</td>\n",
       "      <td>2018-01-01</td>\n",
       "      <td>Iowa</td>\n",
       "      <td>Polk</td>\n",
       "      <td>Des Moines</td>\n",
       "      <td>CARPENTER</td>\n",
       "      <td>Carbon monoxide</td>\n",
       "      <td>Parts per million</td>\n",
       "      <td>0.215789</td>\n",
       "      <td>3</td>\n",
       "    </tr>\n",
       "    <tr>\n",
       "      <th>5</th>\n",
       "      <td>5</td>\n",
       "      <td>2018-01-01</td>\n",
       "      <td>Hawaii</td>\n",
       "      <td>Honolulu</td>\n",
       "      <td>Not in a city</td>\n",
       "      <td>Kapolei</td>\n",
       "      <td>Carbon monoxide</td>\n",
       "      <td>Parts per million</td>\n",
       "      <td>0.994737</td>\n",
       "      <td>14</td>\n",
       "    </tr>\n",
       "    <tr>\n",
       "      <th>6</th>\n",
       "      <td>6</td>\n",
       "      <td>2018-01-01</td>\n",
       "      <td>Hawaii</td>\n",
       "      <td>Honolulu</td>\n",
       "      <td>Not in a city</td>\n",
       "      <td>Kapolei</td>\n",
       "      <td>Carbon monoxide</td>\n",
       "      <td>Parts per million</td>\n",
       "      <td>0.200000</td>\n",
       "      <td>2</td>\n",
       "    </tr>\n",
       "    <tr>\n",
       "      <th>8</th>\n",
       "      <td>8</td>\n",
       "      <td>2018-01-01</td>\n",
       "      <td>Hawaii</td>\n",
       "      <td>Honolulu</td>\n",
       "      <td>Honolulu</td>\n",
       "      <td>Honolulu</td>\n",
       "      <td>Carbon monoxide</td>\n",
       "      <td>Parts per million</td>\n",
       "      <td>0.400000</td>\n",
       "      <td>5</td>\n",
       "    </tr>\n",
       "    <tr>\n",
       "      <th>9</th>\n",
       "      <td>9</td>\n",
       "      <td>2018-01-01</td>\n",
       "      <td>Colorado</td>\n",
       "      <td>Larimer</td>\n",
       "      <td>Fort Collins</td>\n",
       "      <td>Fort Collins - CSU - S. Mason</td>\n",
       "      <td>Carbon monoxide</td>\n",
       "      <td>Parts per million</td>\n",
       "      <td>0.300000</td>\n",
       "      <td>6</td>\n",
       "    </tr>\n",
       "    <tr>\n",
       "      <th>10</th>\n",
       "      <td>10</td>\n",
       "      <td>2018-01-01</td>\n",
       "      <td>Minnesota</td>\n",
       "      <td>Dakota</td>\n",
       "      <td>Rosemount</td>\n",
       "      <td>Flint Hills Refinery 420</td>\n",
       "      <td>Carbon monoxide</td>\n",
       "      <td>Parts per million</td>\n",
       "      <td>0.247368</td>\n",
       "      <td>3</td>\n",
       "    </tr>\n",
       "  </tbody>\n",
       "</table>\n",
       "</div>"
      ],
      "text/plain": [
       "    Unnamed: 0  date_local    state_name   county_name      city_name  \\\n",
       "0            0  2018-01-01       Arizona      Maricopa        Buckeye   \n",
       "1            1  2018-01-01          Ohio       Belmont      Shadyside   \n",
       "2            2  2018-01-01       Wyoming         Teton  Not in a city   \n",
       "3            3  2018-01-01  Pennsylvania  Philadelphia   Philadelphia   \n",
       "4            4  2018-01-01          Iowa          Polk     Des Moines   \n",
       "5            5  2018-01-01        Hawaii      Honolulu  Not in a city   \n",
       "6            6  2018-01-01        Hawaii      Honolulu  Not in a city   \n",
       "8            8  2018-01-01        Hawaii      Honolulu       Honolulu   \n",
       "9            9  2018-01-01      Colorado       Larimer   Fort Collins   \n",
       "10          10  2018-01-01     Minnesota        Dakota      Rosemount   \n",
       "\n",
       "                                      local_site_name   parameter_name  \\\n",
       "0                                             BUCKEYE  Carbon monoxide   \n",
       "1                                           Shadyside  Carbon monoxide   \n",
       "2   Yellowstone National Park - Old Faithful Snow ...  Carbon monoxide   \n",
       "3                              North East Waste (NEW)  Carbon monoxide   \n",
       "4                                           CARPENTER  Carbon monoxide   \n",
       "5                                             Kapolei  Carbon monoxide   \n",
       "6                                             Kapolei  Carbon monoxide   \n",
       "8                                            Honolulu  Carbon monoxide   \n",
       "9                       Fort Collins - CSU - S. Mason  Carbon monoxide   \n",
       "10                           Flint Hills Refinery 420  Carbon monoxide   \n",
       "\n",
       "     units_of_measure  arithmetic_mean  aqi  \n",
       "0   Parts per million         0.473684    7  \n",
       "1   Parts per million         0.263158    5  \n",
       "2   Parts per million         0.111111    2  \n",
       "3   Parts per million         0.300000    3  \n",
       "4   Parts per million         0.215789    3  \n",
       "5   Parts per million         0.994737   14  \n",
       "6   Parts per million         0.200000    2  \n",
       "8   Parts per million         0.400000    5  \n",
       "9   Parts per million         0.300000    6  \n",
       "10  Parts per million         0.247368    3  "
      ]
     },
     "execution_count": 18,
     "metadata": {},
     "output_type": "execute_result"
    }
   ],
   "source": [
    "# First 10 rows of the data\n",
    "\n",
    "Airquality.head(10)"
   ]
  },
  {
   "cell_type": "markdown",
   "metadata": {
    "id": "2c748417"
   },
   "source": [
    "## Step 4: Results and evaluation"
   ]
  },
  {
   "cell_type": "markdown",
   "metadata": {
    "id": "06fae653"
   },
   "source": [
    "###  Visualize the relationship between the sampling and normal distributions\n",
    "\n",
    "Visualize the relationship between your sampling distribution of 10,000 estimates and the normal distribution.\n",
    "\n",
    "1. Plot a histogram of the 10,000 sample means \n",
    "2. Add a vertical line indicating the mean of the first single sample of 50\n",
    "3. Add another vertical line indicating the mean of the means of the 10,000 samples \n",
    "4. Add a third vertical line indicating the mean of the actual population"
   ]
  },
  {
   "cell_type": "code",
   "execution_count": 19,
   "id": "4cdbe118",
   "metadata": {
    "id": "55b5b482"
   },
   "outputs": [],
   "source": [
    "# Code Here"
   ]
  },
  {
   "cell_type": "markdown",
   "metadata": {
    "id": "9abab6d5"
   },
   "source": [
    "**Question:** What insights did you gain from the preceding sampling distribution?"
   ]
  },
  {
   "cell_type": "markdown",
   "metadata": {
    "id": "6TWq1w2KXtN3"
   },
   "source": [
    "A: That it fits for the most part as a normal distribution. The mean goes through the middle fo the distribution as it should and both the mean population mean and mean of 10000 samples are overlapping. The first randome sample that was done fo 50 observations has a mean that is too far left but with enough samples like 10000 it evens out"
   ]
  },
  {
   "cell_type": "markdown",
   "metadata": {
    "id": "c77e7f0f-d2b9-4464-8a7c-9575d1e1ef9f"
   },
   "source": [
    "# Considerations"
   ]
  },
  {
   "cell_type": "markdown",
   "metadata": {},
   "source": [
    "**What are some key takeaways that you learned from this project?**\n",
    "\n",
    "A: The ability to sample parts of a data set as well as running through multiple observations to create visualizations. "
   ]
  },
  {
   "cell_type": "markdown",
   "metadata": {},
   "source": [
    "**What findings would you share with others?**\n",
    "\n",
    "A: THe 10000 samples are unbiased and fairly represent the dataset. The first sample mean was away from the population mean showing some variability. Also that the central limit theory is being clearly shown"
   ]
  },
  {
   "cell_type": "markdown",
   "metadata": {},
   "source": [
    "**What would you convey to external readers?**\n",
    "\n",
    "A: The average of the air quality is 6.8 parts per million. The averages of 50 measurements van give us a solid idea of the average of the entire data set and we hence do not need to sample every site."
   ]
  }
 ],
 "metadata": {
  "colab": {
   "collapsed_sections": [],
   "provenance": []
  },
  "kernelspec": {
   "display_name": "Python 3",
   "language": "python",
   "name": "python3"
  },
  "language_info": {
   "codemirror_mode": {
    "name": "ipython",
    "version": 3
   },
   "file_extension": ".py",
   "mimetype": "text/x-python",
   "name": "python",
   "nbconvert_exporter": "python",
   "pygments_lexer": "ipython3",
   "version": "3.12.3"
  },
  "toc-autonumbering": false,
  "toc-showtags": false
 },
 "nbformat": 4,
 "nbformat_minor": 5
}
