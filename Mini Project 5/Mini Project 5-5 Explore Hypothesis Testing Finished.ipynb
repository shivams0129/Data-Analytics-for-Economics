{
 "cells": [
  {
   "cell_type": "markdown",
   "metadata": {
    "id": "d25eed62-5910-4d10-a976-c18c4f7d99f7"
   },
   "source": [
    "# Mini Project 5-5 Explore Hypothesis Testing"
   ]
  },
  {
   "cell_type": "markdown",
   "metadata": {
    "id": "b50579ec-09df-4bb1-ad5a-d28f4790ca16"
   },
   "source": [
    "## Introduction"
   ]
  },
  {
   "cell_type": "markdown",
   "metadata": {
    "id": "6a8992ac-22d5-41db-aa09-263b464950e0"
   },
   "source": [
    "You work for an environmental think tank called Repair Our Air (ROA). ROA is formulating policy recommendations to improve the air quality in America, using the Environmental Protection Agency's Air Quality Index (AQI) to guide their decision making. An AQI value close to 0 signals \"little to no\" public health concern, while higher values are associated with increased risk to public health. \n",
    "\n",
    "They've tasked you with leveraging AQI data to help them prioritize their strategy for improving air quality in America."
   ]
  },
  {
   "cell_type": "markdown",
   "metadata": {
    "id": "6e4e3b8a-b5f9-4fe1-a824-0bd3aece693c"
   },
   "source": [
    "ROA is considering the following decisions. For each, construct a hypothesis test and an accompanying visualization, using your results of that test to make a recommendation:\n",
    "\n",
    "1. ROA is considering a metropolitan-focused approach. Within California, they want to know if the mean AQI in Los Angeles County is statistically different from the rest of California.\n",
    "2. With limited resources, ROA has to choose between New York and Ohio for their next regional office. Does New York have a lower AQI than Ohio?\n",
    "3. A new policy will affect those states with a mean AQI of 10 or greater. Will Michigan be affected by this new policy?\n",
    "\n",
    "**Notes:**\n",
    "1. For your analysis, you'll default to a 5% level of significance.\n",
    "2. Throughout the lab, for two-sample t-tests, use Welch's t-test (i.e., setting the `equal_var` parameter to `False` in `scipy.stats.ttest_ind()`). This will account for the possibly unequal variances between the two groups in the comparison."
   ]
  },
  {
   "cell_type": "markdown",
   "metadata": {
    "id": "3b4dc9a5-d724-4696-a704-57fefa9d5938"
   },
   "source": [
    "## Step 1: Imports\n",
    "\n",
    "To proceed with your analysis, import `pandas` and `numpy`. To conduct your hypothesis testing, import `stats` from `scipy`."
   ]
  },
  {
   "cell_type": "markdown",
   "metadata": {
    "id": "3d28827d-9bb3-45c7-a969-c00f6feda0e2"
   },
   "source": [
    "#### Import Packages"
   ]
  },
  {
   "cell_type": "code",
   "execution_count": 39,
   "id": "49e1b927",
   "metadata": {
    "id": "0b3d0e1c-23b9-4491-82a5-ac1e4bd36f30"
   },
   "outputs": [],
   "source": [
    "# Import relevant packages\n",
    "\n",
    "import pandas as pd\n",
    "import numpy as np\n",
    "from scipy import stats\n"
   ]
  },
  {
   "cell_type": "markdown",
   "metadata": {
    "id": "a4f7c0d0-027e-475a-bce5-ad96d059cd04"
   },
   "source": [
    "You are also provided with a dataset with national Air Quality Index (AQI) measurements by state over time for this analysis. `Pandas` was used to import the file `c4_epa_air_quality.csv` as a dataframe named `aqi`. As shown in this cell, the dataset has been automatically loaded in for you. You do not need to download the .csv file, or provide more code, in order to access the dataset and proceed with this lab. Please continue with this activity by completing the following instructions.\n",
    "\n",
    "**Note:** For purposes of your analysis, you can assume this data is randomly sampled from a larger population."
   ]
  },
  {
   "cell_type": "markdown",
   "metadata": {
    "id": "4b765030-5f02-47d2-aa77-8ac5b2117cc1"
   },
   "source": [
    "#### Load Dataset"
   ]
  },
  {
   "cell_type": "code",
   "execution_count": 40,
   "id": "10bf528c",
   "metadata": {
    "id": "1ce82ed7-cf32-4028-ac77-a377e7638458",
    "tags": []
   },
   "outputs": [],
   "source": [
    "# IMPORT YOUR DATA\n",
    "aqi = pd.read_csv(\"c4_epa_air_quality.csv\")\n",
    "aqi = aqi.dropna()\n",
    "\n"
   ]
  },
  {
   "cell_type": "markdown",
   "metadata": {
    "id": "ZDz9XgvMy0MD"
   },
   "source": [
    "## Step 2: Data Exploration"
   ]
  },
  {
   "cell_type": "markdown",
   "metadata": {
    "id": "c1ee0813-5e74-4564-8ea1-8d724700754a"
   },
   "source": [
    "### Before proceeding to your deliverables, explore your datasets.\n",
    "\n",
    "Use the following space to surface descriptive statistics about your data. In particular, explore whether you believe the research questions you were given are readily answerable with this data."
   ]
  },
  {
   "cell_type": "code",
   "execution_count": 41,
   "id": "02acd553",
   "metadata": {},
   "outputs": [
    {
     "data": {
      "text/html": [
       "<div>\n",
       "<style scoped>\n",
       "    .dataframe tbody tr th:only-of-type {\n",
       "        vertical-align: middle;\n",
       "    }\n",
       "\n",
       "    .dataframe tbody tr th {\n",
       "        vertical-align: top;\n",
       "    }\n",
       "\n",
       "    .dataframe thead th {\n",
       "        text-align: right;\n",
       "    }\n",
       "</style>\n",
       "<table border=\"1\" class=\"dataframe\">\n",
       "  <thead>\n",
       "    <tr style=\"text-align: right;\">\n",
       "      <th></th>\n",
       "      <th>Unnamed: 0</th>\n",
       "      <th>date_local</th>\n",
       "      <th>state_name</th>\n",
       "      <th>county_name</th>\n",
       "      <th>city_name</th>\n",
       "      <th>local_site_name</th>\n",
       "      <th>parameter_name</th>\n",
       "      <th>units_of_measure</th>\n",
       "      <th>arithmetic_mean</th>\n",
       "      <th>aqi</th>\n",
       "    </tr>\n",
       "  </thead>\n",
       "  <tbody>\n",
       "    <tr>\n",
       "      <th>0</th>\n",
       "      <td>0</td>\n",
       "      <td>2018-01-01</td>\n",
       "      <td>Arizona</td>\n",
       "      <td>Maricopa</td>\n",
       "      <td>Buckeye</td>\n",
       "      <td>BUCKEYE</td>\n",
       "      <td>Carbon monoxide</td>\n",
       "      <td>Parts per million</td>\n",
       "      <td>0.473684</td>\n",
       "      <td>7</td>\n",
       "    </tr>\n",
       "    <tr>\n",
       "      <th>1</th>\n",
       "      <td>1</td>\n",
       "      <td>2018-01-01</td>\n",
       "      <td>Ohio</td>\n",
       "      <td>Belmont</td>\n",
       "      <td>Shadyside</td>\n",
       "      <td>Shadyside</td>\n",
       "      <td>Carbon monoxide</td>\n",
       "      <td>Parts per million</td>\n",
       "      <td>0.263158</td>\n",
       "      <td>5</td>\n",
       "    </tr>\n",
       "    <tr>\n",
       "      <th>2</th>\n",
       "      <td>2</td>\n",
       "      <td>2018-01-01</td>\n",
       "      <td>Wyoming</td>\n",
       "      <td>Teton</td>\n",
       "      <td>Not in a city</td>\n",
       "      <td>Yellowstone National Park - Old Faithful Snow ...</td>\n",
       "      <td>Carbon monoxide</td>\n",
       "      <td>Parts per million</td>\n",
       "      <td>0.111111</td>\n",
       "      <td>2</td>\n",
       "    </tr>\n",
       "    <tr>\n",
       "      <th>3</th>\n",
       "      <td>3</td>\n",
       "      <td>2018-01-01</td>\n",
       "      <td>Pennsylvania</td>\n",
       "      <td>Philadelphia</td>\n",
       "      <td>Philadelphia</td>\n",
       "      <td>North East Waste (NEW)</td>\n",
       "      <td>Carbon monoxide</td>\n",
       "      <td>Parts per million</td>\n",
       "      <td>0.300000</td>\n",
       "      <td>3</td>\n",
       "    </tr>\n",
       "    <tr>\n",
       "      <th>4</th>\n",
       "      <td>4</td>\n",
       "      <td>2018-01-01</td>\n",
       "      <td>Iowa</td>\n",
       "      <td>Polk</td>\n",
       "      <td>Des Moines</td>\n",
       "      <td>CARPENTER</td>\n",
       "      <td>Carbon monoxide</td>\n",
       "      <td>Parts per million</td>\n",
       "      <td>0.215789</td>\n",
       "      <td>3</td>\n",
       "    </tr>\n",
       "  </tbody>\n",
       "</table>\n",
       "</div>"
      ],
      "text/plain": [
       "   Unnamed: 0  date_local    state_name   county_name      city_name  \\\n",
       "0           0  2018-01-01       Arizona      Maricopa        Buckeye   \n",
       "1           1  2018-01-01          Ohio       Belmont      Shadyside   \n",
       "2           2  2018-01-01       Wyoming         Teton  Not in a city   \n",
       "3           3  2018-01-01  Pennsylvania  Philadelphia   Philadelphia   \n",
       "4           4  2018-01-01          Iowa          Polk     Des Moines   \n",
       "\n",
       "                                     local_site_name   parameter_name  \\\n",
       "0                                            BUCKEYE  Carbon monoxide   \n",
       "1                                          Shadyside  Carbon monoxide   \n",
       "2  Yellowstone National Park - Old Faithful Snow ...  Carbon monoxide   \n",
       "3                             North East Waste (NEW)  Carbon monoxide   \n",
       "4                                          CARPENTER  Carbon monoxide   \n",
       "\n",
       "    units_of_measure  arithmetic_mean  aqi  \n",
       "0  Parts per million         0.473684    7  \n",
       "1  Parts per million         0.263158    5  \n",
       "2  Parts per million         0.111111    2  \n",
       "3  Parts per million         0.300000    3  \n",
       "4  Parts per million         0.215789    3  "
      ]
     },
     "execution_count": 41,
     "metadata": {},
     "output_type": "execute_result"
    }
   ],
   "source": [
    "# Use head() to show a sample of data\n",
    "aqi.head()"
   ]
  },
  {
   "cell_type": "code",
   "execution_count": 42,
   "id": "dd601b44",
   "metadata": {},
   "outputs": [
    {
     "name": "stdout",
     "output_type": "stream",
     "text": [
      "(257, 10)\n"
     ]
    }
   ],
   "source": [
    "# check varibles\n",
    "print (aqi.shape)"
   ]
  },
  {
   "cell_type": "code",
   "execution_count": 43,
   "id": "0ca1c3bf",
   "metadata": {},
   "outputs": [
    {
     "data": {
      "text/html": [
       "<div>\n",
       "<style scoped>\n",
       "    .dataframe tbody tr th:only-of-type {\n",
       "        vertical-align: middle;\n",
       "    }\n",
       "\n",
       "    .dataframe tbody tr th {\n",
       "        vertical-align: top;\n",
       "    }\n",
       "\n",
       "    .dataframe thead th {\n",
       "        text-align: right;\n",
       "    }\n",
       "</style>\n",
       "<table border=\"1\" class=\"dataframe\">\n",
       "  <thead>\n",
       "    <tr style=\"text-align: right;\">\n",
       "      <th></th>\n",
       "      <th>Unnamed: 0</th>\n",
       "      <th>arithmetic_mean</th>\n",
       "      <th>aqi</th>\n",
       "    </tr>\n",
       "  </thead>\n",
       "  <tbody>\n",
       "    <tr>\n",
       "      <th>count</th>\n",
       "      <td>257.000000</td>\n",
       "      <td>257.000000</td>\n",
       "      <td>257.000000</td>\n",
       "    </tr>\n",
       "    <tr>\n",
       "      <th>mean</th>\n",
       "      <td>129.766537</td>\n",
       "      <td>0.404578</td>\n",
       "      <td>6.782101</td>\n",
       "    </tr>\n",
       "    <tr>\n",
       "      <th>std</th>\n",
       "      <td>74.675286</td>\n",
       "      <td>0.319311</td>\n",
       "      <td>7.091422</td>\n",
       "    </tr>\n",
       "    <tr>\n",
       "      <th>min</th>\n",
       "      <td>0.000000</td>\n",
       "      <td>0.000000</td>\n",
       "      <td>0.000000</td>\n",
       "    </tr>\n",
       "    <tr>\n",
       "      <th>25%</th>\n",
       "      <td>66.000000</td>\n",
       "      <td>0.200000</td>\n",
       "      <td>2.000000</td>\n",
       "    </tr>\n",
       "    <tr>\n",
       "      <th>50%</th>\n",
       "      <td>130.000000</td>\n",
       "      <td>0.278947</td>\n",
       "      <td>5.000000</td>\n",
       "    </tr>\n",
       "    <tr>\n",
       "      <th>75%</th>\n",
       "      <td>194.000000</td>\n",
       "      <td>0.516667</td>\n",
       "      <td>9.000000</td>\n",
       "    </tr>\n",
       "    <tr>\n",
       "      <th>max</th>\n",
       "      <td>259.000000</td>\n",
       "      <td>1.921053</td>\n",
       "      <td>50.000000</td>\n",
       "    </tr>\n",
       "  </tbody>\n",
       "</table>\n",
       "</div>"
      ],
      "text/plain": [
       "       Unnamed: 0  arithmetic_mean         aqi\n",
       "count  257.000000       257.000000  257.000000\n",
       "mean   129.766537         0.404578    6.782101\n",
       "std     74.675286         0.319311    7.091422\n",
       "min      0.000000         0.000000    0.000000\n",
       "25%     66.000000         0.200000    2.000000\n",
       "50%    130.000000         0.278947    5.000000\n",
       "75%    194.000000         0.516667    9.000000\n",
       "max    259.000000         1.921053   50.000000"
      ]
     },
     "execution_count": 43,
     "metadata": {},
     "output_type": "execute_result"
    }
   ],
   "source": [
    "# Use describe() to summarize AQI\n",
    "\n",
    "aqi.describe()"
   ]
  },
  {
   "cell_type": "code",
   "execution_count": 44,
   "id": "681cb5ff",
   "metadata": {
    "id": "0444122d-6fba-4051-8b09-b15392aacebf",
    "tags": []
   },
   "outputs": [
    {
     "data": {
      "text/plain": [
       "Unnamed: 0  date_local  state_name      county_name  city_name                                  local_site_name                 parameter_name   units_of_measure   arithmetic_mean  aqi\n",
       "0           2018-01-01  Arizona         Maricopa     Buckeye                                    BUCKEYE                         Carbon monoxide  Parts per million  0.473684         7      1\n",
       "131         2018-01-01  Arizona         Maricopa     Phoenix                                    CENTRAL PHOENIX                 Carbon monoxide  Parts per million  1.110526         27     1\n",
       "165         2018-01-01  Utah            Weber        Ogden                                      Ogden                           Carbon monoxide  Parts per million  0.326316         7      1\n",
       "166         2018-01-01  New Jersey      Hudson       Jersey City                                Jersey City                     Carbon monoxide  Parts per million  0.133333         3      1\n",
       "167         2018-01-01  New York        New York     New York                                   CCNY                            Carbon monoxide  Parts per million  0.200000         2      1\n",
       "                                                                                                                                                                                           ..\n",
       "93          2018-01-01  Oklahoma        Oklahoma     Oklahoma City                              Near Road                       Carbon monoxide  Parts per million  0.284211         5      1\n",
       "94          2018-01-01  Florida         Pinellas     Saint Petersburg                           Sawgrass Lake Park (Near-Road)  Carbon monoxide  Parts per million  0.315789         9      1\n",
       "95          2018-01-01  Colorado        Mesa         Grand Junction                             GRAND JUNCTION - PITKIN         Carbon monoxide  Parts per million  0.305263         6      1\n",
       "96          2018-01-01  Minnesota       Dakota       Inver Grove Heights (RR name Inver Grove)  Flint Hills Refinery 423        Carbon monoxide  Parts per million  0.200000         2      1\n",
       "259         2018-01-01  North Carolina  Wake         Not in a city                              Triple Oak                      Carbon monoxide  Parts per million  0.188889         2      1\n",
       "Name: count, Length: 257, dtype: int64"
      ]
     },
     "execution_count": 44,
     "metadata": {},
     "output_type": "execute_result"
    }
   ],
   "source": [
    "# For a more thorough examination of observations by state use values_counts()\n",
    "aqi.value_counts()"
   ]
  },
  {
   "cell_type": "markdown",
   "metadata": {
    "id": "4a29c065-73b4-409f-a57c-b49c740f3d1d"
   },
   "source": [
    "#### **Question 1: From the preceding data exploration, what do you recognize?**"
   ]
  },
  {
   "cell_type": "markdown",
   "metadata": {
    "id": "yxdjmP4WJ4wH"
   },
   "source": [
    "A:"
   ]
  },
  {
   "cell_type": "markdown",
   "metadata": {
    "id": "fd48d0f0-3f90-455e-87a1-0da43fcac202"
   },
   "source": [
    "## Step 3. Statistical Tests\n",
    "\n",
    "Before you proceed, recall the following steps for conducting hypothesis testing:\n",
    "\n",
    "1. Formulate the null hypothesis and the alternative hypothesis.<br>\n",
    "2. Set the significance level.<br>\n",
    "3. Determine the appropriate test procedure.<br>\n",
    "4. Compute the p-value.<br>\n",
    "5. Draw your conclusion."
   ]
  },
  {
   "cell_type": "markdown",
   "metadata": {
    "id": "d572fbab-b82e-4898-96d5-93a8f20c3094"
   },
   "source": [
    "### Hypothesis 1: ROA is considering a metropolitan-focused approach. Within California, they want to know if the mean AQI in Los Angeles County is statistically different from the rest of California.\n",
    "\n",
    "Before proceeding with your analysis, it will be helpful to subset the data for your comparison."
   ]
  },
  {
   "cell_type": "code",
   "execution_count": 45,
   "id": "88cf8597",
   "metadata": {
    "id": "c8e42529-af00-4699-96b4-bd0f8989014a"
   },
   "outputs": [
    {
     "name": "stdout",
     "output_type": "stream",
     "text": [
      "     Unnamed: 0  date_local  state_name  county_name         city_name  \\\n",
      "33           33  2018-01-01  California  Los Angeles         Lancaster   \n",
      "42           42  2018-01-01  California  Los Angeles     Santa Clarita   \n",
      "61           61  2018-01-01  California  Los Angeles          Pasadena   \n",
      "76           76  2018-01-01  California  Los Angeles       Los Angeles   \n",
      "109         109  2018-01-01  California  Los Angeles       Los Angeles   \n",
      "110         110  2018-01-01  California  Los Angeles       Los Angeles   \n",
      "119         119  2018-01-01  California  Los Angeles            Reseda   \n",
      "132         132  2018-01-01  California  Los Angeles           Compton   \n",
      "163         163  2018-01-01  California  Los Angeles             Azusa   \n",
      "172         172  2018-01-01  California  Los Angeles       Pico Rivera   \n",
      "177         177  2018-01-01  California  Los Angeles        Long Beach   \n",
      "189         189  2018-01-01  California  Los Angeles            Pomona   \n",
      "233         233  2018-01-01  California  Los Angeles          Glendora   \n",
      "250         250  2018-01-01  California  Los Angeles  West Los Angeles   \n",
      "\n",
      "                   local_site_name   parameter_name   units_of_measure  \\\n",
      "33       Lancaster-Division Street  Carbon monoxide  Parts per million   \n",
      "42                   Santa Clarita  Carbon monoxide  Parts per million   \n",
      "61                        Pasadena  Carbon monoxide  Parts per million   \n",
      "76                    LAX Hastings  Carbon monoxide  Parts per million   \n",
      "109  Los Angeles-North Main Street  Carbon monoxide  Parts per million   \n",
      "110  Los Angeles-North Main Street  Carbon monoxide  Parts per million   \n",
      "119                         Reseda  Carbon monoxide  Parts per million   \n",
      "132                        Compton  Carbon monoxide  Parts per million   \n",
      "163                          Azusa  Carbon monoxide  Parts per million   \n",
      "172                 Pico Rivera #2  Carbon monoxide  Parts per million   \n",
      "177            Long Beach (Hudson)  Carbon monoxide  Parts per million   \n",
      "189                         Pomona  Carbon monoxide  Parts per million   \n",
      "233                       Glendora  Carbon monoxide  Parts per million   \n",
      "250               West Los Angeles  Carbon monoxide  Parts per million   \n",
      "\n",
      "     arithmetic_mean  aqi  \n",
      "33          0.394737    7  \n",
      "42          0.394737    7  \n",
      "61          0.789474   16  \n",
      "76          0.863158   17  \n",
      "109         0.994737   17  \n",
      "110         0.900000   16  \n",
      "119         1.015789   19  \n",
      "132         1.742105   40  \n",
      "163         0.673684   10  \n",
      "172         1.047368   18  \n",
      "177         1.200000   24  \n",
      "189         1.000000   20  \n",
      "233         0.389474    6  \n",
      "250         0.655556   11  \n",
      "     Unnamed: 0  date_local  state_name     county_name  \\\n",
      "16           16  2018-01-01  California  San Bernardino   \n",
      "18           18  2018-01-01  California      Sacramento   \n",
      "26           26  2018-01-01  California          Orange   \n",
      "27           27  2018-01-01  California         Alameda   \n",
      "34           34  2018-01-01  California          Fresno   \n",
      "40           40  2018-01-01  California       San Mateo   \n",
      "43           43  2018-01-01  California    Contra Costa   \n",
      "45           45  2018-01-01  California           Butte   \n",
      "46           46  2018-01-01  California       Riverside   \n",
      "58           58  2018-01-01  California            Kern   \n",
      "62           62  2018-01-01  California         Alameda   \n",
      "63           63  2018-01-01  California      Sacramento   \n",
      "75           75  2018-01-01  California     San Joaquin   \n",
      "77           77  2018-01-01  California       Riverside   \n",
      "81           81  2018-01-01  California   Santa Barbara   \n",
      "86           86  2018-01-01  California     Santa Clara   \n",
      "87           87  2018-01-01  California        Humboldt   \n",
      "99           99  2018-01-01  California   Santa Barbara   \n",
      "106         106  2018-01-01  California        Imperial   \n",
      "117         117  2018-01-01  California       San Diego   \n",
      "127         127  2018-01-01  California           Marin   \n",
      "130         130  2018-01-01  California  San Bernardino   \n",
      "134         134  2018-01-01  California         Alameda   \n",
      "139         139  2018-01-01  California  San Bernardino   \n",
      "141         141  2018-01-01  California   San Francisco   \n",
      "147         147  2018-01-01  California     Santa Clara   \n",
      "148         148  2018-01-01  California    Contra Costa   \n",
      "151         151  2018-01-01  California          Orange   \n",
      "156         156  2018-01-01  California          Fresno   \n",
      "158         158  2018-01-01  California      Stanislaus   \n",
      "161         161  2018-01-01  California            Kern   \n",
      "170         170  2018-01-01  California       San Diego   \n",
      "171         171  2018-01-01  California            Inyo   \n",
      "176         176  2018-01-01  California    Contra Costa   \n",
      "190         190  2018-01-01  California          Madera   \n",
      "194         194  2018-01-01  California  San Bernardino   \n",
      "198         198  2018-01-01  California       Riverside   \n",
      "199         199  2018-01-01  California       Riverside   \n",
      "200         200  2018-01-01  California       Riverside   \n",
      "203         203  2018-01-01  California   Santa Barbara   \n",
      "206         206  2018-01-01  California  San Bernardino   \n",
      "211         211  2018-01-01  California          Fresno   \n",
      "213         213  2018-01-01  California   Santa Barbara   \n",
      "218         218  2018-01-01  California          Sonoma   \n",
      "220         220  2018-01-01  California            Napa   \n",
      "222         222  2018-01-01  California  San Bernardino   \n",
      "224         224  2018-01-01  California      Sacramento   \n",
      "227         227  2018-01-01  California   Santa Barbara   \n",
      "230         230  2018-01-01  California        Monterey   \n",
      "236         236  2018-01-01  California          Solano   \n",
      "239         239  2018-01-01  California         Alameda   \n",
      "249         249  2018-01-01  California          Orange   \n",
      "\n",
      "                     city_name  \\\n",
      "16                     Ontario   \n",
      "18                Arden-Arcade   \n",
      "26                    La Habra   \n",
      "27               Not in a city   \n",
      "34                      Fresno   \n",
      "40                Redwood City   \n",
      "43                     Concord   \n",
      "45                       Chico   \n",
      "46                   Mira Loma   \n",
      "58                       Arvin   \n",
      "62                     Oakland   \n",
      "63               Not in a city   \n",
      "75                    Stockton   \n",
      "77               Lake Elsinore   \n",
      "81   Vandenberg Air Force Base   \n",
      "86                    San Jose   \n",
      "87                      Eureka   \n",
      "99                      Goleta   \n",
      "106                   Calexico   \n",
      "117                   El Cajon   \n",
      "127                 San Rafael   \n",
      "130                    Fontana   \n",
      "134                    Oakland   \n",
      "139                Victorville   \n",
      "141              San Francisco   \n",
      "147                   San Jose   \n",
      "148                  San Pablo   \n",
      "151                    Anaheim   \n",
      "156                     Clovis   \n",
      "158                    Modesto   \n",
      "161                Bakersfield   \n",
      "170                  San Diego   \n",
      "171              Not in a city   \n",
      "176              Bethel Island   \n",
      "190                     Madera   \n",
      "194                     Upland   \n",
      "198               Palm Springs   \n",
      "199                   Rubidoux   \n",
      "200                   Rubidoux   \n",
      "203                Santa Maria   \n",
      "206             San Bernardino   \n",
      "211              Not in a city   \n",
      "213                    Capitan   \n",
      "218                 Sebastopol   \n",
      "220                       Napa   \n",
      "222                    Barstow   \n",
      "224                 Sacramento   \n",
      "227                     Lompoc   \n",
      "230                    Salinas   \n",
      "236                    Vallejo   \n",
      "239                    Oakland   \n",
      "249                    Anaheim   \n",
      "\n",
      "                                       local_site_name   parameter_name  \\\n",
      "16                        Ontario Near Road (Etiwanda)  Carbon monoxide   \n",
      "18                           Sacramento-Del Paso Manor  Carbon monoxide   \n",
      "26                                            La Habra  Carbon monoxide   \n",
      "27                              Berkeley- Aquatic Park  Carbon monoxide   \n",
      "34                                    Fresno - Garland  Carbon monoxide   \n",
      "40                                        Redwood City  Carbon monoxide   \n",
      "43                                             Concord  Carbon monoxide   \n",
      "45                                   Chico-East Avenue  Carbon monoxide   \n",
      "46                               Mira Loma (Van Buren)  Carbon monoxide   \n",
      "58                                    Arvin-Di Giorgio  Carbon monoxide   \n",
      "62                                       Laney College  Carbon monoxide   \n",
      "63                           North Highlands-Blackfoot  Carbon monoxide   \n",
      "75                                   Stockton-Hazelton  Carbon monoxide   \n",
      "77                                       Lake Elsinore  Carbon monoxide   \n",
      "81                                     VAFB South Base  Carbon monoxide   \n",
      "86                                  San Jose - Jackson  Carbon monoxide   \n",
      "87                                              Jacobs  Carbon monoxide   \n",
      "99                                              Goleta  Carbon monoxide   \n",
      "106                              Calexico-Ethel Street  Carbon monoxide   \n",
      "117             El Cajon - Lexington Elementary School  Carbon monoxide   \n",
      "127                                         San Rafael  Carbon monoxide   \n",
      "130                                            Fontana  Carbon monoxide   \n",
      "134                                            Oakland  Carbon monoxide   \n",
      "139                            Victorville-Park Avenue  Carbon monoxide   \n",
      "141                                      San Francisco  Carbon monoxide   \n",
      "147                             San Jose - Knox Avenue  Carbon monoxide   \n",
      "148                                          San Pablo  Carbon monoxide   \n",
      "151                                            Anaheim  Carbon monoxide   \n",
      "156                                       Clovis-Villa  Carbon monoxide   \n",
      "158                                Modesto-14th Street  Carbon monoxide   \n",
      "161                                   Bakersfield-Muni  Carbon monoxide   \n",
      "170                     San Diego -Rancho Carmel Drive  Carbon monoxide   \n",
      "171  White Mountain Research Center - Owens Valley Lab  Carbon monoxide   \n",
      "176                                      Bethel Island  Carbon monoxide   \n",
      "190                                   Madera-Pump Yard  Carbon monoxide   \n",
      "194                                             Upland  Carbon monoxide   \n",
      "198                                       Palm Springs  Carbon monoxide   \n",
      "199                                           Rubidoux  Carbon monoxide   \n",
      "200                                           Rubidoux  Carbon monoxide   \n",
      "203                                        Santa Maria  Carbon monoxide   \n",
      "206                                     San Bernardino  Carbon monoxide   \n",
      "211                                       Tranquillity  Carbon monoxide   \n",
      "213                               Los Flores Canyon #1  Carbon monoxide   \n",
      "218                                         Sebastopol  Carbon monoxide   \n",
      "220                                               Napa  Carbon monoxide   \n",
      "222                                            Barstow  Carbon monoxide   \n",
      "224                            Sacramento-Bercut Drive  Carbon monoxide   \n",
      "227                                    Lompoc H Street  Carbon monoxide   \n",
      "230                                          Salinas 3  Carbon monoxide   \n",
      "236                                            Vallejo  Carbon monoxide   \n",
      "239                                       Oakland West  Carbon monoxide   \n",
      "249                                  Anaheim Near-Road  Carbon monoxide   \n",
      "\n",
      "      units_of_measure  arithmetic_mean  aqi  \n",
      "16   Parts per million         0.747368   11  \n",
      "18   Parts per million         0.752632   16  \n",
      "26   Parts per million         0.673684   13  \n",
      "27   Parts per million         1.088889   15  \n",
      "34   Parts per million         1.000000   15  \n",
      "40   Parts per million         0.672222   10  \n",
      "43   Parts per million         0.294444    5  \n",
      "45   Parts per million         0.466667    9  \n",
      "46   Parts per million         1.231579   27  \n",
      "58   Parts per million         0.278947    3  \n",
      "62   Parts per million         0.611111    9  \n",
      "63   Parts per million         0.836842   18  \n",
      "75   Parts per million         1.084211   20  \n",
      "77   Parts per million         0.510526    9  \n",
      "81   Parts per million         0.200000    2  \n",
      "86   Parts per million         0.747059   15  \n",
      "87   Parts per million         0.393750    5  \n",
      "99   Parts per million         0.222222    3  \n",
      "106  Parts per million         1.183333   26  \n",
      "117  Parts per million         0.626667   11  \n",
      "127  Parts per million         0.505556    7  \n",
      "130  Parts per million         0.626316   11  \n",
      "134  Parts per million         0.600000   10  \n",
      "139  Parts per million         0.621053   13  \n",
      "141  Parts per million         0.650000    8  \n",
      "147  Parts per million         1.111111   18  \n",
      "148  Parts per million         0.405556    7  \n",
      "151  Parts per million         0.694737   11  \n",
      "156  Parts per million         0.761111   10  \n",
      "158  Parts per million         0.488889    9  \n",
      "161  Parts per million         0.633333   13  \n",
      "170  Parts per million         0.933333   11  \n",
      "171  Parts per million         0.100000    1  \n",
      "176  Parts per million         0.511111    7  \n",
      "190  Parts per million         0.347368    5  \n",
      "194  Parts per million         0.884211   13  \n",
      "198  Parts per million         0.157895    3  \n",
      "199  Parts per million         1.021053   23  \n",
      "200  Parts per million         0.984211   22  \n",
      "203  Parts per million         0.227778    3  \n",
      "206  Parts per million         1.100000   28  \n",
      "211  Parts per million         0.215789    3  \n",
      "213  Parts per million         0.273333    3  \n",
      "218  Parts per million         0.572222    8  \n",
      "220  Parts per million         0.588889   10  \n",
      "222  Parts per million         0.305263    5  \n",
      "224  Parts per million         0.627778   13  \n",
      "227  Parts per million         0.393333    6  \n",
      "230  Parts per million         0.552632   10  \n",
      "236  Parts per million         0.620000    9  \n",
      "239  Parts per million         0.988889   15  \n",
      "249  Parts per million         1.015789   15  \n"
     ]
    }
   ],
   "source": [
    "# Create dataframes for each sample being compared in your test\n",
    "\n",
    "california_aqi = aqi[aqi['state_name'] == 'California']\n",
    "\n",
    "la_county_aqi = california_aqi[california_aqi['county_name'] == 'Los Angeles']\n",
    "\n",
    "rest_of_CA = california_aqi[california_aqi['county_name'] != 'Los Angeles']\n",
    "\n",
    "print(la_county_aqi)\n",
    "print(rest_of_CA)"
   ]
  },
  {
   "cell_type": "code",
   "execution_count": 46,
   "id": "256ba9bb",
   "metadata": {},
   "outputs": [
    {
     "data": {
      "text/html": [
       "<div>\n",
       "<style scoped>\n",
       "    .dataframe tbody tr th:only-of-type {\n",
       "        vertical-align: middle;\n",
       "    }\n",
       "\n",
       "    .dataframe tbody tr th {\n",
       "        vertical-align: top;\n",
       "    }\n",
       "\n",
       "    .dataframe thead th {\n",
       "        text-align: right;\n",
       "    }\n",
       "</style>\n",
       "<table border=\"1\" class=\"dataframe\">\n",
       "  <thead>\n",
       "    <tr style=\"text-align: right;\">\n",
       "      <th></th>\n",
       "      <th>Unnamed: 0</th>\n",
       "      <th>date_local</th>\n",
       "      <th>state_name</th>\n",
       "      <th>county_name</th>\n",
       "      <th>city_name</th>\n",
       "      <th>local_site_name</th>\n",
       "      <th>parameter_name</th>\n",
       "      <th>units_of_measure</th>\n",
       "      <th>arithmetic_mean</th>\n",
       "      <th>aqi</th>\n",
       "    </tr>\n",
       "  </thead>\n",
       "  <tbody>\n",
       "    <tr>\n",
       "      <th>16</th>\n",
       "      <td>16</td>\n",
       "      <td>2018-01-01</td>\n",
       "      <td>California</td>\n",
       "      <td>San Bernardino</td>\n",
       "      <td>Ontario</td>\n",
       "      <td>Ontario Near Road (Etiwanda)</td>\n",
       "      <td>Carbon monoxide</td>\n",
       "      <td>Parts per million</td>\n",
       "      <td>0.747368</td>\n",
       "      <td>11</td>\n",
       "    </tr>\n",
       "    <tr>\n",
       "      <th>18</th>\n",
       "      <td>18</td>\n",
       "      <td>2018-01-01</td>\n",
       "      <td>California</td>\n",
       "      <td>Sacramento</td>\n",
       "      <td>Arden-Arcade</td>\n",
       "      <td>Sacramento-Del Paso Manor</td>\n",
       "      <td>Carbon monoxide</td>\n",
       "      <td>Parts per million</td>\n",
       "      <td>0.752632</td>\n",
       "      <td>16</td>\n",
       "    </tr>\n",
       "    <tr>\n",
       "      <th>26</th>\n",
       "      <td>26</td>\n",
       "      <td>2018-01-01</td>\n",
       "      <td>California</td>\n",
       "      <td>Orange</td>\n",
       "      <td>La Habra</td>\n",
       "      <td>La Habra</td>\n",
       "      <td>Carbon monoxide</td>\n",
       "      <td>Parts per million</td>\n",
       "      <td>0.673684</td>\n",
       "      <td>13</td>\n",
       "    </tr>\n",
       "    <tr>\n",
       "      <th>27</th>\n",
       "      <td>27</td>\n",
       "      <td>2018-01-01</td>\n",
       "      <td>California</td>\n",
       "      <td>Alameda</td>\n",
       "      <td>Not in a city</td>\n",
       "      <td>Berkeley- Aquatic Park</td>\n",
       "      <td>Carbon monoxide</td>\n",
       "      <td>Parts per million</td>\n",
       "      <td>1.088889</td>\n",
       "      <td>15</td>\n",
       "    </tr>\n",
       "    <tr>\n",
       "      <th>34</th>\n",
       "      <td>34</td>\n",
       "      <td>2018-01-01</td>\n",
       "      <td>California</td>\n",
       "      <td>Fresno</td>\n",
       "      <td>Fresno</td>\n",
       "      <td>Fresno - Garland</td>\n",
       "      <td>Carbon monoxide</td>\n",
       "      <td>Parts per million</td>\n",
       "      <td>1.000000</td>\n",
       "      <td>15</td>\n",
       "    </tr>\n",
       "  </tbody>\n",
       "</table>\n",
       "</div>"
      ],
      "text/plain": [
       "    Unnamed: 0  date_local  state_name     county_name      city_name  \\\n",
       "16          16  2018-01-01  California  San Bernardino        Ontario   \n",
       "18          18  2018-01-01  California      Sacramento   Arden-Arcade   \n",
       "26          26  2018-01-01  California          Orange       La Habra   \n",
       "27          27  2018-01-01  California         Alameda  Not in a city   \n",
       "34          34  2018-01-01  California          Fresno         Fresno   \n",
       "\n",
       "                 local_site_name   parameter_name   units_of_measure  \\\n",
       "16  Ontario Near Road (Etiwanda)  Carbon monoxide  Parts per million   \n",
       "18     Sacramento-Del Paso Manor  Carbon monoxide  Parts per million   \n",
       "26                      La Habra  Carbon monoxide  Parts per million   \n",
       "27        Berkeley- Aquatic Park  Carbon monoxide  Parts per million   \n",
       "34              Fresno - Garland  Carbon monoxide  Parts per million   \n",
       "\n",
       "    arithmetic_mean  aqi  \n",
       "16         0.747368   11  \n",
       "18         0.752632   16  \n",
       "26         0.673684   13  \n",
       "27         1.088889   15  \n",
       "34         1.000000   15  "
      ]
     },
     "execution_count": 46,
     "metadata": {},
     "output_type": "execute_result"
    }
   ],
   "source": [
    "# Check head\n",
    "la_county_aqi.head()\n",
    "rest_of_CA.head()"
   ]
  },
  {
   "cell_type": "markdown",
   "metadata": {
    "id": "7dff76cf-3a49-49d2-9660-0b5ec17d5f0a"
   },
   "source": [
    "#### Formulate your hypothesis:"
   ]
  },
  {
   "cell_type": "markdown",
   "metadata": {
    "id": "fdddef66-6207-4cc0-853c-0b578674bbfc"
   },
   "source": [
    "**Formulate your null and alternative hypotheses:**\n",
    "\n",
    "*   $H_0$: There is no difference in the mean AQI between Los Angeles County and the rest of California.\n",
    "*   $H_A$: There is a difference in the mean AQI between Los Angeles County and the rest of California.\n"
   ]
  },
  {
   "cell_type": "markdown",
   "metadata": {
    "id": "5dac3136-16bf-45d2-a560-05fe5361f5cb"
   },
   "source": [
    "#### Set the significance level:"
   ]
  },
  {
   "cell_type": "code",
   "execution_count": 47,
   "id": "4e5da851",
   "metadata": {
    "id": "5ef36549-7ccb-4547-bf04-d23b166c65d4"
   },
   "outputs": [
    {
     "data": {
      "text/plain": [
       "TtestResult(statistic=2.1107010796372014, pvalue=0.049839056842410995, df=17.08246830361151)"
      ]
     },
     "execution_count": 47,
     "metadata": {},
     "output_type": "execute_result"
    }
   ],
   "source": [
    "# For this analysis, the significance level is 5%\n",
    "\n",
    "# n < 30, t-distribution: sample a, sample b, assume not same variance.\n",
    "\n",
    "stats.ttest_ind(a=la_county_aqi['aqi'], b=rest_of_CA['aqi'], equal_var=False)"
   ]
  },
  {
   "cell_type": "markdown",
   "metadata": {
    "id": "4ebb679d-188d-4ca8-a886-6edb9ba1301e"
   },
   "source": [
    "#### Determine the appropriate test procedure:"
   ]
  },
  {
   "cell_type": "markdown",
   "metadata": {
    "id": "ab717428-91e5-4f88-b6d5-0a8c3034e010"
   },
   "source": [
    "Here, you are comparing the sample means between two independent samples. Therefore, you will utilize a **two-sample  𝑡-test**."
   ]
  },
  {
   "cell_type": "markdown",
   "metadata": {
    "id": "e862eb4d-a170-4126-9373-a527bf5659da"
   },
   "source": [
    "#### Compute the P-value"
   ]
  },
  {
   "cell_type": "code",
   "execution_count": 48,
   "id": "36277db7",
   "metadata": {
    "id": "83ef0d80-48ec-4a5a-8acd-0fab137243c3",
    "tags": []
   },
   "outputs": [
    {
     "name": "stdout",
     "output_type": "stream",
     "text": [
      "pvalue: 0.049839056842410995\n",
      "\n",
      "pvalue < 0.05, Reject Ho.\n"
     ]
    }
   ],
   "source": [
    "# Compute your p-value here\n",
    "\n",
    "# Extracting pvalue and make the test\n",
    "\n",
    "statistic, pvalue = stats.ttest_ind(a=la_county_aqi['aqi'], b=rest_of_CA['aqi'], equal_var=False)\n",
    "\n",
    "print (\"pvalue:\",pvalue)\n",
    "print()\n",
    "\n",
    "if pvalue < 0.05:\n",
    "    \n",
    "    print('pvalue < 0.05, Reject Ho.')          # Ha: There is a difference in the mean\n",
    "else:\n",
    "    print('pvalue > 0.05, Fail to reject Ho.')  # Ho: There is no difference in the mean"
   ]
  },
  {
   "cell_type": "markdown",
   "metadata": {
    "id": "2d62e8b0-59e5-471d-a5fc-d50395955a2a"
   },
   "source": [
    "#### **Question 2. What is your P-value for hypothesis 1, and what does this indicate for your null hypothesis?**"
   ]
  },
  {
   "cell_type": "code",
   "execution_count": 49,
   "id": "548e7dff",
   "metadata": {},
   "outputs": [],
   "source": [
    "# Extracting pvalue and make the test\n"
   ]
  },
  {
   "cell_type": "markdown",
   "metadata": {
    "id": "KUEKceuOJ1S2"
   },
   "source": [
    "A: We Reject the null hypothesis. This means that there is a difference in the AQI of LA County vs the rest of the state"
   ]
  },
  {
   "cell_type": "markdown",
   "metadata": {
    "id": "94a88155-3328-4c7e-8e60-67a2ba9d7967"
   },
   "source": [
    "### Hypothesis 2: With limited resources, ROA has to choose between New York and Ohio for their next regional office. Does New York have a lower AQI than Ohio?\n",
    "\n",
    "Before proceeding with your analysis, it will be helpful to subset the data for your comparison."
   ]
  },
  {
   "cell_type": "code",
   "execution_count": 50,
   "id": "9c246db0",
   "metadata": {
    "id": "f39b7d83-9fbf-4bba-90c2-c99f903badd8"
   },
   "outputs": [
    {
     "name": "stdout",
     "output_type": "stream",
     "text": [
      "     Unnamed: 0  date_local state_name county_name      city_name  \\\n",
      "90           90  2018-01-01   New York        Erie    Cheektowaga   \n",
      "113         113  2018-01-01   New York       Bronx       New York   \n",
      "124         124  2018-01-01   New York      Monroe      Rochester   \n",
      "167         167  2018-01-01   New York    New York       New York   \n",
      "173         173  2018-01-01   New York      Queens       New York   \n",
      "182         182  2018-01-01   New York      Queens       New York   \n",
      "184         184  2018-01-01   New York     Steuben  Not in a city   \n",
      "195         195  2018-01-01   New York        Erie        Buffalo   \n",
      "196         196  2018-01-01   New York      Monroe      Rochester   \n",
      "234         234  2018-01-01   New York      Albany         Albany   \n",
      "\n",
      "              local_site_name   parameter_name   units_of_measure  \\\n",
      "90          Buffalo Near-Road  Carbon monoxide  Parts per million   \n",
      "113           PFIZER LAB SITE  Carbon monoxide  Parts per million   \n",
      "124               ROCHESTER 2  Carbon monoxide  Parts per million   \n",
      "167                      CCNY  Carbon monoxide  Parts per million   \n",
      "173  Queens College Near Road  Carbon monoxide  Parts per million   \n",
      "182          QUEENS COLLEGE 2  Carbon monoxide  Parts per million   \n",
      "184       PINNACLE STATE PARK  Carbon monoxide  Parts per million   \n",
      "195                   BUFFALO  Carbon monoxide  Parts per million   \n",
      "196       Rochester Near-Road  Carbon monoxide  Parts per million   \n",
      "234               LOUDONVILLE  Carbon monoxide  Parts per million   \n",
      "\n",
      "     arithmetic_mean  aqi  \n",
      "90          0.252632    3  \n",
      "113         0.289474    3  \n",
      "124         0.200000    2  \n",
      "167         0.200000    2  \n",
      "173         0.273684    3  \n",
      "182         0.200000    2  \n",
      "184         0.200000    2  \n",
      "195         0.300000    3  \n",
      "196         0.200000    2  \n",
      "234         0.221053    3  \n",
      "     Unnamed: 0  date_local state_name county_name             city_name  \\\n",
      "1             1  2018-01-01       Ohio     Belmont             Shadyside   \n",
      "12           12  2018-01-01       Ohio    Hamilton            Cincinnati   \n",
      "22           22  2018-01-01       Ohio       Stark                Canton   \n",
      "51           51  2018-01-01       Ohio      Summit                 Akron   \n",
      "59           59  2018-01-01       Ohio    Cuyahoga             Cleveland   \n",
      "120         120  2018-01-01       Ohio    Cuyahoga             Cleveland   \n",
      "149         149  2018-01-01       Ohio    Franklin              Columbus   \n",
      "191         191  2018-01-01       Ohio    Franklin              Columbus   \n",
      "215         215  2018-01-01       Ohio    Cuyahoga  Warrensville Heights   \n",
      "231         231  2018-01-01       Ohio  Montgomery                Dayton   \n",
      "241         241  2018-01-01       Ohio      Preble             New Paris   \n",
      "252         252  2018-01-01       Ohio    Hamilton            Cincinnati   \n",
      "\n",
      "          local_site_name   parameter_name   units_of_measure  \\\n",
      "1               Shadyside  Carbon monoxide  Parts per million   \n",
      "12             Taft NCore  Carbon monoxide  Parts per million   \n",
      "22                 Canton  Carbon monoxide  Parts per million   \n",
      "51           NIHF STEM MS  Carbon monoxide  Parts per million   \n",
      "59         GT Craig NCore  Carbon monoxide  Parts per million   \n",
      "120              Galleria  Carbon monoxide  Parts per million   \n",
      "149              Morse Rd  Carbon monoxide  Parts per million   \n",
      "191   Smoky Row Near Road  Carbon monoxide  Parts per million   \n",
      "215   Cleveland Near Road  Carbon monoxide  Parts per million   \n",
      "231               Reibold  Carbon monoxide  Parts per million   \n",
      "241          Preble NCore  Carbon monoxide  Parts per million   \n",
      "252  Cincinnati Near Road  Carbon monoxide  Parts per million   \n",
      "\n",
      "     arithmetic_mean  aqi  \n",
      "1           0.263158    5  \n",
      "12          0.252632    3  \n",
      "22          0.394737    6  \n",
      "51          0.083333    3  \n",
      "59          0.250000    3  \n",
      "120         0.273684    3  \n",
      "149         0.184211    3  \n",
      "191         0.115789    2  \n",
      "215         0.321053    5  \n",
      "231         0.163158    2  \n",
      "241         0.176471    2  \n",
      "252         0.226316    3  \n"
     ]
    }
   ],
   "source": [
    "# Create dataframes for each sample being compared in your test\n",
    "\n",
    "New_York = aqi[aqi['state_name'] == 'New York']\n",
    "Ohio = aqi[aqi['state_name'] == 'Ohio']\n",
    "\n",
    "\n",
    "\n",
    "\n",
    "print(New_York)\n",
    "print(Ohio)"
   ]
  },
  {
   "cell_type": "code",
   "execution_count": 51,
   "id": "7437671b",
   "metadata": {},
   "outputs": [
    {
     "data": {
      "text/html": [
       "<div>\n",
       "<style scoped>\n",
       "    .dataframe tbody tr th:only-of-type {\n",
       "        vertical-align: middle;\n",
       "    }\n",
       "\n",
       "    .dataframe tbody tr th {\n",
       "        vertical-align: top;\n",
       "    }\n",
       "\n",
       "    .dataframe thead th {\n",
       "        text-align: right;\n",
       "    }\n",
       "</style>\n",
       "<table border=\"1\" class=\"dataframe\">\n",
       "  <thead>\n",
       "    <tr style=\"text-align: right;\">\n",
       "      <th></th>\n",
       "      <th>Unnamed: 0</th>\n",
       "      <th>date_local</th>\n",
       "      <th>state_name</th>\n",
       "      <th>county_name</th>\n",
       "      <th>city_name</th>\n",
       "      <th>local_site_name</th>\n",
       "      <th>parameter_name</th>\n",
       "      <th>units_of_measure</th>\n",
       "      <th>arithmetic_mean</th>\n",
       "      <th>aqi</th>\n",
       "    </tr>\n",
       "  </thead>\n",
       "  <tbody>\n",
       "    <tr>\n",
       "      <th>1</th>\n",
       "      <td>1</td>\n",
       "      <td>2018-01-01</td>\n",
       "      <td>Ohio</td>\n",
       "      <td>Belmont</td>\n",
       "      <td>Shadyside</td>\n",
       "      <td>Shadyside</td>\n",
       "      <td>Carbon monoxide</td>\n",
       "      <td>Parts per million</td>\n",
       "      <td>0.263158</td>\n",
       "      <td>5</td>\n",
       "    </tr>\n",
       "    <tr>\n",
       "      <th>12</th>\n",
       "      <td>12</td>\n",
       "      <td>2018-01-01</td>\n",
       "      <td>Ohio</td>\n",
       "      <td>Hamilton</td>\n",
       "      <td>Cincinnati</td>\n",
       "      <td>Taft NCore</td>\n",
       "      <td>Carbon monoxide</td>\n",
       "      <td>Parts per million</td>\n",
       "      <td>0.252632</td>\n",
       "      <td>3</td>\n",
       "    </tr>\n",
       "    <tr>\n",
       "      <th>22</th>\n",
       "      <td>22</td>\n",
       "      <td>2018-01-01</td>\n",
       "      <td>Ohio</td>\n",
       "      <td>Stark</td>\n",
       "      <td>Canton</td>\n",
       "      <td>Canton</td>\n",
       "      <td>Carbon monoxide</td>\n",
       "      <td>Parts per million</td>\n",
       "      <td>0.394737</td>\n",
       "      <td>6</td>\n",
       "    </tr>\n",
       "    <tr>\n",
       "      <th>51</th>\n",
       "      <td>51</td>\n",
       "      <td>2018-01-01</td>\n",
       "      <td>Ohio</td>\n",
       "      <td>Summit</td>\n",
       "      <td>Akron</td>\n",
       "      <td>NIHF STEM MS</td>\n",
       "      <td>Carbon monoxide</td>\n",
       "      <td>Parts per million</td>\n",
       "      <td>0.083333</td>\n",
       "      <td>3</td>\n",
       "    </tr>\n",
       "    <tr>\n",
       "      <th>59</th>\n",
       "      <td>59</td>\n",
       "      <td>2018-01-01</td>\n",
       "      <td>Ohio</td>\n",
       "      <td>Cuyahoga</td>\n",
       "      <td>Cleveland</td>\n",
       "      <td>GT Craig NCore</td>\n",
       "      <td>Carbon monoxide</td>\n",
       "      <td>Parts per million</td>\n",
       "      <td>0.250000</td>\n",
       "      <td>3</td>\n",
       "    </tr>\n",
       "  </tbody>\n",
       "</table>\n",
       "</div>"
      ],
      "text/plain": [
       "    Unnamed: 0  date_local state_name county_name   city_name local_site_name  \\\n",
       "1            1  2018-01-01       Ohio     Belmont   Shadyside       Shadyside   \n",
       "12          12  2018-01-01       Ohio    Hamilton  Cincinnati      Taft NCore   \n",
       "22          22  2018-01-01       Ohio       Stark      Canton          Canton   \n",
       "51          51  2018-01-01       Ohio      Summit       Akron    NIHF STEM MS   \n",
       "59          59  2018-01-01       Ohio    Cuyahoga   Cleveland  GT Craig NCore   \n",
       "\n",
       "     parameter_name   units_of_measure  arithmetic_mean  aqi  \n",
       "1   Carbon monoxide  Parts per million         0.263158    5  \n",
       "12  Carbon monoxide  Parts per million         0.252632    3  \n",
       "22  Carbon monoxide  Parts per million         0.394737    6  \n",
       "51  Carbon monoxide  Parts per million         0.083333    3  \n",
       "59  Carbon monoxide  Parts per million         0.250000    3  "
      ]
     },
     "execution_count": 51,
     "metadata": {},
     "output_type": "execute_result"
    }
   ],
   "source": [
    "# Check head\n",
    "\n",
    "New_York.head()\n",
    "Ohio.head()"
   ]
  },
  {
   "cell_type": "markdown",
   "metadata": {
    "id": "029b0f9c-0d0c-475f-b745-643a313e2b79"
   },
   "source": [
    "**Formulate your null and alternative hypotheses:**\n",
    "\n",
    "*   $H_0$: The mean AQI of New York is greater than or equal to that of Ohio.\n",
    "*   $H_A$: The mean AQI of New York is **below** that of Ohio.\n"
   ]
  },
  {
   "cell_type": "markdown",
   "metadata": {
    "id": "b12559f5-bd57-4664-be80-7208ca8818b4"
   },
   "source": [
    "#### Significance Level (remains at 5%)"
   ]
  },
  {
   "cell_type": "markdown",
   "metadata": {
    "id": "2b57fcf8-6f9d-4dae-ba0d-4af9a24d991d"
   },
   "source": [
    "#### Determine the appropriate test procedure:"
   ]
  },
  {
   "cell_type": "markdown",
   "metadata": {
    "id": "8ac7075f-1342-4522-9c49-1f43574d05f8"
   },
   "source": [
    "Here, you are comparing the sample means between two independent samples in one direction. Therefore, you will utilize a **two-sample  𝑡-test**."
   ]
  },
  {
   "cell_type": "markdown",
   "metadata": {
    "id": "77f03fc8-0663-48b2-af4b-2936b35027e7"
   },
   "source": [
    "#### Compute the P-value"
   ]
  },
  {
   "cell_type": "code",
   "execution_count": 52,
   "id": "42ceaca8",
   "metadata": {
    "id": "e495500f-c3d9-4cf2-ad1d-4687640a01b4",
    "tags": []
   },
   "outputs": [],
   "source": [
    "# Compute your p-value here\n",
    "\n",
    "statistic, pvalue = stats.ttest_ind(a=New_York['arithmetic_mean'], \n",
    "                                    b=Ohio['arithmetic_mean'], \n",
    "                                    equal_var=False)"
   ]
  },
  {
   "cell_type": "markdown",
   "metadata": {
    "id": "d56642db-8f45-405a-af7d-69bd3ad3fe58"
   },
   "source": [
    "#### **Question 3. What is your P-value for hypothesis 2, and what does this indicate for your null hypothesis?**"
   ]
  },
  {
   "cell_type": "code",
   "execution_count": 53,
   "id": "7c3c5b39",
   "metadata": {},
   "outputs": [
    {
     "name": "stdout",
     "output_type": "stream",
     "text": [
      "T-statistic: 0.29374585904584777\n",
      "Adjusted p-value (left-tailed): 0.6136693659905865\n",
      "\n",
      "pvalue > 0.05, Fail to reject Ho.\n"
     ]
    }
   ],
   "source": [
    "# Your code here.\n",
    "\n",
    "if statistic < 0:\n",
    "    adjusted_pvalue = pvalue / 2\n",
    "else:\n",
    "    adjusted_pvalue = 1 - (pvalue / 2)\n",
    "\n",
    "# Extracting pvalue and making the test\n",
    "print(\"T-statistic:\", statistic)\n",
    "print(\"Adjusted p-value (left-tailed):\", adjusted_pvalue)\n",
    "print()\n",
    "\n",
    "if adjusted_pvalue < 0.05:\n",
    "    \n",
    "    print('pvalue < 0.05, Reject Ho.')          \n",
    "else:\n",
    "    print('pvalue > 0.05, Fail to reject Ho.')  "
   ]
  },
  {
   "cell_type": "markdown",
   "metadata": {
    "id": "dFDxoQ9aJxz3"
   },
   "source": [
    "A: Reject Ho. This means that New York AQI is below that of Ohios"
   ]
  },
  {
   "cell_type": "markdown",
   "metadata": {
    "id": "4308fdf1-3080-4697-a0b4-4c7c59c49b9b"
   },
   "source": [
    "###  Hypothesis 3: A new policy will affect those states with a mean AQI of 10 or greater. Will Michigan be affected by this new policy?\n",
    "\n",
    "Before proceeding with your analysis, it will be helpful to subset the data for your comparison."
   ]
  },
  {
   "cell_type": "code",
   "execution_count": 54,
   "id": "6d173961",
   "metadata": {
    "id": "559c43b4-ccb3-4a05-91d4-8f4aaee4d8b7"
   },
   "outputs": [
    {
     "name": "stdout",
     "output_type": "stream",
     "text": [
      "     Unnamed: 0  date_local state_name county_name      city_name  \\\n",
      "65           65  2018-01-01   Michigan       Wayne        Livonia   \n",
      "122         122  2018-01-01   Michigan       Wayne        Detroit   \n",
      "123         123  2018-01-01   Michigan       Wayne        Detroit   \n",
      "129         129  2018-01-01   Michigan       Wayne        Detroit   \n",
      "192         192  2018-01-01   Michigan       Wayne     Allen Park   \n",
      "207         207  2018-01-01   Michigan       Wayne  Not in a city   \n",
      "226         226  2018-01-01   Michigan        Kent   Grand Rapids   \n",
      "242         242  2018-01-01   Michigan       Wayne        Detroit   \n",
      "248         248  2018-01-01   Michigan       Wayne        Detroit   \n",
      "\n",
      "              local_site_name   parameter_name   units_of_measure  \\\n",
      "65                 LIVONIA-NR  Carbon monoxide  Parts per million   \n",
      "122               West corner  Carbon monoxide  Parts per million   \n",
      "123  MARK TWAIN MIDDLE SCHOOL  Carbon monoxide  Parts per million   \n",
      "129                  ELIZA-NR  Carbon monoxide  Parts per million   \n",
      "192                Allen Park  Carbon monoxide  Parts per million   \n",
      "207            Eliza Downwind  Carbon monoxide  Parts per million   \n",
      "226                 GR-MONROE  Carbon monoxide  Parts per million   \n",
      "242        (Northeast corner)  Carbon monoxide  Parts per million   \n",
      "248                 NORTHWEST  Carbon monoxide  Parts per million   \n",
      "\n",
      "     arithmetic_mean  aqi  \n",
      "65          0.338889    5  \n",
      "122         0.394737    8  \n",
      "123         0.515789    9  \n",
      "129         0.616667   11  \n",
      "192         0.811111   13  \n",
      "207         0.516667   10  \n",
      "226         0.200000    2  \n",
      "242         0.378947    7  \n",
      "248         0.415789    8  \n"
     ]
    }
   ],
   "source": [
    "# Create dataframes for each sample being compared in your test\n",
    "\n",
    "Michigan = aqi[aqi['state_name'] == 'Michigan']\n",
    "\n",
    "\n",
    "\n",
    "\n",
    "print(Michigan)\n"
   ]
  },
  {
   "cell_type": "markdown",
   "metadata": {
    "id": "b25225ee-02d7-4d42-8746-9e68598b7bf6"
   },
   "source": [
    "**Formulate your null and alternative hypotheses here:**\n",
    "\n",
    "*   $H_0$: The mean AQI of Michigan is less than or equal to 10.\n",
    "*   $H_A$: The mean AQI of Michigan is greater than 10.\n"
   ]
  },
  {
   "cell_type": "markdown",
   "metadata": {
    "id": "32581125-a9ef-4b17-b8d5-0e1085d4c746"
   },
   "source": [
    "#### Significance Level (remains at 5%)"
   ]
  },
  {
   "cell_type": "markdown",
   "metadata": {
    "id": "915f8cd0-d06b-44ab-81f6-0effa96fae09"
   },
   "source": [
    "#### Determine the appropriate test procedure:"
   ]
  },
  {
   "cell_type": "markdown",
   "metadata": {
    "id": "6753e251-d152-48c9-a5ad-bd46b62636ee"
   },
   "source": [
    "Here, you are comparing one sample mean relative to a particular value in one direction. Therefore, you will utilize a **one-sample  𝑡-test**. "
   ]
  },
  {
   "cell_type": "markdown",
   "metadata": {
    "id": "95443324-76bb-4473-b07b-dcc0c9be7251"
   },
   "source": [
    "#### Compute the P-value"
   ]
  },
  {
   "cell_type": "code",
   "execution_count": 55,
   "id": "4feb6062",
   "metadata": {
    "id": "8b86c9f5-284a-4ed7-b2d4-2b531e0092f9",
    "tags": []
   },
   "outputs": [
    {
     "name": "stdout",
     "output_type": "stream",
     "text": [
      "T-statistic: -162.15297021609814\n",
      "Adjusted p-value (right-tailed): 0.9999999999999988\n",
      "\n",
      "pvalue > 0.05, Fail to reject Ho.\n"
     ]
    }
   ],
   "source": [
    "statistic, pvalue = stats.ttest_1samp(a=Michigan['arithmetic_mean'], popmean=10)\n",
    "\n",
    "\n",
    "if statistic > 0:\n",
    "    adjusted_pvalue = 1 - (pvalue / 2) \n",
    "else:\n",
    "    adjusted_pvalue = 1 - (pvalue / 2)  \n",
    "\n",
    "print(\"T-statistic:\", statistic)\n",
    "print(\"Adjusted p-value (right-tailed):\", adjusted_pvalue)\n",
    "print()\n",
    "\n",
    "if adjusted_pvalue < 0.05:\n",
    "    print('pvalue < 0.05, Reject Ho.')          \n",
    "else:\n",
    "    print('pvalue > 0.05, Fail to reject Ho.')  \n"
   ]
  },
  {
   "cell_type": "markdown",
   "metadata": {
    "id": "33175451-2fed-4105-8a46-1bfb0ad3b714"
   },
   "source": [
    "#### **Question 4. What is your P-value for hypothesis 3, and what does this indicate for your null hypothesis?**"
   ]
  },
  {
   "cell_type": "markdown",
   "metadata": {
    "id": "Li8YaXdqJuBF"
   },
   "source": [
    "A: Fail to reject Null Hypothesis which means that the mean AQI of Michigan is less than or equal to 10"
   ]
  },
  {
   "cell_type": "markdown",
   "metadata": {
    "id": "oS3JWcpU127z"
   },
   "source": [
    "## Step 4. Results and Evaluation\n",
    "\n",
    "Now that you've completed your statistical tests, you can consider your hypotheses and the results you gathered."
   ]
  },
  {
   "cell_type": "markdown",
   "metadata": {
    "id": "q2p_8BmC16V-"
   },
   "source": [
    "#### **Question 5. Did your results show that the AQI in Los Angeles County was statistically different from the rest of California?**"
   ]
  },
  {
   "cell_type": "markdown",
   "metadata": {
    "id": "US0JnLp3JrfX"
   },
   "source": [
    "A: Yes"
   ]
  },
  {
   "cell_type": "markdown",
   "metadata": {
    "id": "G7-YawsW68Yd"
   },
   "source": [
    "#### **Question 6. Did New York or Ohio have a lower AQI?**"
   ]
  },
  {
   "cell_type": "markdown",
   "metadata": {
    "id": "zzSBoJwMJpgG"
   },
   "source": [
    "A: New York does"
   ]
  },
  {
   "cell_type": "markdown",
   "metadata": {
    "id": "ppAmh9nD7HkZ"
   },
   "source": [
    "#### **Question 7: Will Michigan be affected by the new policy impacting states with a mean AQI of 10 or greater?**\n",
    "\n"
   ]
  },
  {
   "cell_type": "markdown",
   "metadata": {
    "id": "1nfqgTngJnLV"
   },
   "source": [
    "A: No"
   ]
  },
  {
   "cell_type": "markdown",
   "metadata": {
    "id": "e2bf2c48-c712-4310-a83e-96a13edc4da1"
   },
   "source": [
    "# Conclusion\n",
    "\n",
    "**What are key takeaways from this project?**\n",
    "\n",
    "A: THat you can efficiently use T tests to understand and check if your hypothesis is true or not. Based on the goal, you will need to change between right tailed, left tailed, and two tailed tests\n",
    "\n",
    "**What would you consider presenting to your manager as part of your findings?**\n",
    "\n",
    "A: I would present my three answers for the questions as well as the level of confidence for it as well as the p values. LA County not equal to rest of state, NY < Ohio, and Michigan < 10. I would also talk about the implications of each of these\n",
    "\n",
    "\n",
    "**What would you convey to external readers?**\n",
    "\n",
    "A: In this I would just share out final results and outcomes to better inform the public why these policy changes are taking place\n"
   ]
  },
  {
   "cell_type": "markdown",
   "id": "8310edc2",
   "metadata": {},
   "source": []
  },
  {
   "cell_type": "markdown",
   "id": "5d1bc24d",
   "metadata": {},
   "source": []
  }
 ],
 "metadata": {
  "colab": {
   "collapsed_sections": [
    "b12559f5-bd57-4664-be80-7208ca8818b4",
    "32581125-a9ef-4b17-b8d5-0e1085d4c746"
   ],
   "provenance": []
  },
  "kernelspec": {
   "display_name": "Python 3",
   "language": "python",
   "name": "python3"
  },
  "language_info": {
   "codemirror_mode": {
    "name": "ipython",
    "version": 3
   },
   "file_extension": ".py",
   "mimetype": "text/x-python",
   "name": "python",
   "nbconvert_exporter": "python",
   "pygments_lexer": "ipython3",
   "version": "3.12.3"
  }
 },
 "nbformat": 4,
 "nbformat_minor": 5
}
