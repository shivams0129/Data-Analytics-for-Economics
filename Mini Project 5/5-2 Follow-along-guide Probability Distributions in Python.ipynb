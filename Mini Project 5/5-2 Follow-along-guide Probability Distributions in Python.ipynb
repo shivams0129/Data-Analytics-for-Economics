{
 "cells": [
  {
   "cell_type": "markdown",
   "metadata": {
    "id": "EbiZcmHT1ykj"
   },
   "source": [
    "# 5-1 Follow-along-guide Descriptive Statistics with Python\n"
   ]
  },
  {
   "cell_type": "markdown",
   "metadata": {
    "id": "scX5nHQ7QaHX"
   },
   "source": [
    "## Overview\n",
    "\n",
    "In this notebook, we will continue with the previous scenario in which you’re a data professional working for the Department of Education of a large nation. Recall that we are analyzing data on the literacy rate for each district, and we have already computed descriptive statistics to summarize your data. For the next part of our analysis, we want to find out if the data on district literacy rate fits a specific type of probability distribution. "
   ]
  },
  {
   "cell_type": "markdown",
   "metadata": {},
   "source": [
    "## Import packages and libraries"
   ]
  },
  {
   "cell_type": "markdown",
   "metadata": {
    "id": "KLBTR0TP2260"
   },
   "source": [
    "Before getting started, we will need to import all the required libraries and extensions. Throughout the course, we will be using pandas and numpy for operations, and matplotlib for plotting. We will also be using two Python packages that may be new to you: SciPy stats and Statsmodels.\n",
    "\n",
    "SciPy is an open-source software you can use for solving mathematical, scientific, engineering, and technical problems. It allows you to manipulate and visualize data with a wide range of Python commands. SciPy stats is a module designed specifically for statistics.\n",
    "\n",
    "Statsmodels is a Python package that lets you explore data, work with statistical models, and perform statistical tests. It includes an extensive list of stats functions for different types of data."
   ]
  },
  {
   "cell_type": "code",
   "execution_count": 1,
   "metadata": {},
   "outputs": [],
   "source": [
    "# pip install scipy statsmodels"
   ]
  },
  {
   "cell_type": "code",
   "execution_count": 2,
   "metadata": {
    "id": "aLEbn0Zvfobu"
   },
   "outputs": [],
   "source": [
    "import numpy as np\n",
    "import pandas as pd\n",
    "import matplotlib.pyplot as plt\n",
    "from scipy import stats\n",
    "import statsmodels.api as sm"
   ]
  },
  {
   "cell_type": "code",
   "execution_count": 3,
   "metadata": {
    "id": "DVnUHl3JhIeZ"
   },
   "outputs": [],
   "source": [
    "education_districtwise = pd.read_csv('education_districtwise.csv')\n",
    "education_districtwise = education_districtwise.dropna()"
   ]
  },
  {
   "cell_type": "markdown",
   "metadata": {
    "id": "Mqgy0oRZag2S"
   },
   "source": [
    "**NOTE:** You can use `dropna()` to remove missing values in your data."
   ]
  },
  {
   "cell_type": "markdown",
   "metadata": {
    "id": "GsWPTYaGkHyY"
   },
   "source": [
    "### Plot a histogram\n",
    "\n",
    "The first step in trying to model your data with a probability distribution is to plot a histogram. This will help you visualize the shape of your data and determine if it resembles the shape of a specific distribution. \n",
    "\n",
    "Let's use matplotlib’s histogram function to plot a histogram of the district literacy rate data. Recall that the `OVERALL_LI` column contains this data. "
   ]
  },
  {
   "cell_type": "code",
   "execution_count": 4,
   "metadata": {
    "colab": {
     "base_uri": "https://localhost:8080/",
     "height": 283
    },
    "id": "flQgN-IhPGa1",
    "outputId": "e22d36d9-451d-458c-9372-e18b4389fbde"
   },
   "outputs": [
    {
     "data": {
      "text/plain": [
       "<Axes: >"
      ]
     },
     "execution_count": 4,
     "metadata": {},
     "output_type": "execute_result"
    },
    {
     "data": {
      "image/png": "[encoded data removed]",
      "text/plain": [
       "<Figure size 640x480 with 1 Axes>"
      ]
     },
     "metadata": {},
     "output_type": "display_data"
    }
   ],
   "source": [
    "education_districtwise['OVERALL_LI'].hist()"
   ]
  },
  {
   "cell_type": "markdown",
   "metadata": {
    "id": "27uAFTsBQqik"
   },
   "source": [
    "### Normal distribution\n",
    "\n",
    "\n",
    "The histogram shows that the distribution of the literacy rate data is bell-shaped and symmetric about the mean. The mean literacy rate, which is around 73%, is located in the center of the plot. Recall that the **normal distribution** is a continuous probability distribution that is bell-shaped and symmetrical on both sides of the mean. The shape of the histogram suggests that the normal distribution might be a good modeling option for the data. "
   ]
  },
  {
   "cell_type": "markdown",
   "metadata": {
    "id": "IHDTA3ITTEWd"
   },
   "source": [
    "### Empirical rule\n",
    "\n",
    "Since the normal distribution seems like a good fit for the district literacy rate data, we can expect the empirical rule to apply relatively well. Recall that the **empirical rule** says that for a normal distribution:\n",
    "\n",
    "*   **68%** of the values fall within +/- 1 SD from the mean\n",
    "*   **95%** of the values fall within +/- 2 SD from the mean\n",
    "*   **99.7%** of the values fall within +/- 3 SD from the mean\n",
    "\n",
    "**NOTE**: \"SD\" stands for standard deviation.\n",
    "\n",
    " In other words, we can expect that about:\n",
    "\n",
    "*   **68%** of district literacy rates will fall within +/- 1 SD from the mean.\n",
    "*   **95%** of district literacy rates will fall within +/- 2 SD from the mean.\n",
    "*   **99.7%** of district literacy rates will fall within +/- 3 SD from the mean.\n",
    "\n"
   ]
  },
  {
   "cell_type": "markdown",
   "metadata": {
    "id": "8rg1TG7blGyS"
   },
   "source": [
    "First, we will name two new variables to store the values for the mean and standard deviation of the district literacy rate: `mean_overall_li` and `std_overall_li`. "
   ]
  },
  {
   "cell_type": "code",
   "execution_count": 5,
   "metadata": {
    "colab": {
     "base_uri": "https://localhost:8080/"
    },
    "id": "lPG2_BDnWXl1",
    "outputId": "7a2af7e0-c847-4b1d-cb8a-afc7dde7e38a"
   },
   "outputs": [
    {
     "data": {
      "text/plain": [
       "np.float64(73.39518927444796)"
      ]
     },
     "execution_count": 5,
     "metadata": {},
     "output_type": "execute_result"
    }
   ],
   "source": [
    "mean_overall_li = education_districtwise['OVERALL_LI'].mean()\n",
    "mean_overall_li"
   ]
  },
  {
   "cell_type": "markdown",
   "metadata": {
    "id": "VIRguu_qkala"
   },
   "source": [
    "The mean district literacy rate is about 73.4%."
   ]
  },
  {
   "cell_type": "code",
   "execution_count": 6,
   "metadata": {
    "colab": {
     "base_uri": "https://localhost:8080/"
    },
    "id": "G5EKd3kFWhq8",
    "outputId": "92a83244-ea8f-4b29-fb41-ed365212b81d"
   },
   "outputs": [
    {
     "data": {
      "text/plain": [
       "np.float64(10.098460413782467)"
      ]
     },
     "execution_count": 6,
     "metadata": {},
     "output_type": "execute_result"
    }
   ],
   "source": [
    "std_overall_li = education_districtwise['OVERALL_LI'].std()\n",
    "std_overall_li"
   ]
  },
  {
   "cell_type": "markdown",
   "metadata": {
    "id": "nhuEpWW3kbZ1"
   },
   "source": [
    "The standard deviation is about 10%."
   ]
  },
  {
   "cell_type": "markdown",
   "metadata": {
    "id": "Dn98edYrleDk"
   },
   "source": [
    "Now, let's compute the actual percentage of district literacy rates that fall within +/- 1 SD from the mean. \n",
    "\n",
    "To do this, we will first name two new variables: `lower_limit` and `upper_limit`. The lower limit will be one SD *below* the mean, or the mean - (1 * SD). The upper limit will be one SD *above* the mean, or the mean + (1 * SD). To write the code for the calculations, we will use our two previous variables, `mean_overall_li` and `std_overall_li`, for the mean and standard deviation.\n",
    "\n",
    "Then, we will add a new line of code that tells the computer to decide if each value in the `OVERALL_LI` column is between the lower limit and upper limit. To do this, we will use the relational operators greater than or equal to (`>=`) and less than or equal to (`<=`), and the bitwise operator AND (`&`). Finally, we will use `mean()` to divide the number of values that are within 1 SD of the mean by the total number of values. \n"
   ]
  },
  {
   "cell_type": "code",
   "execution_count": 7,
   "metadata": {
    "colab": {
     "base_uri": "https://localhost:8080/"
    },
    "id": "ngxf29YTRmjc",
    "outputId": "f3f94422-64ee-43c4-b988-ee07cdd72061"
   },
   "outputs": [
    {
     "data": {
      "text/plain": [
       "np.float64(0.6640378548895899)"
      ]
     },
     "execution_count": 7,
     "metadata": {},
     "output_type": "execute_result"
    }
   ],
   "source": [
    "lower_limit = mean_overall_li - 1 * std_overall_li\n",
    "upper_limit = mean_overall_li + 1 * std_overall_li\n",
    "((education_districtwise['OVERALL_LI'] >= lower_limit) & (education_districtwise['OVERALL_LI'] <= upper_limit)).mean()"
   ]
  },
  {
   "cell_type": "markdown",
   "metadata": {
    "id": "yElu5vs-Xp6H"
   },
   "source": [
    "Next, let's use the same code structure to compute the actual percentage of district literacy rates that fall within +/- 2 SD from the mean."
   ]
  },
  {
   "cell_type": "code",
   "execution_count": 8,
   "metadata": {
    "colab": {
     "base_uri": "https://localhost:8080/"
    },
    "id": "Rn9rwtcoSarH",
    "outputId": "e2beeb42-4a36-4fe7-9cc1-1ff2c94a54cc"
   },
   "outputs": [
    {
     "data": {
      "text/plain": [
       "np.float64(0.9542586750788643)"
      ]
     },
     "execution_count": 8,
     "metadata": {},
     "output_type": "execute_result"
    }
   ],
   "source": [
    "lower_limit = mean_overall_li - 2 * std_overall_li\n",
    "upper_limit = mean_overall_li + 2 * std_overall_li\n",
    "((education_districtwise['OVERALL_LI'] >= lower_limit) & (education_districtwise['OVERALL_LI'] <= upper_limit)).mean()"
   ]
  },
  {
   "cell_type": "markdown",
   "metadata": {
    "id": "soIeDanWXrZM"
   },
   "source": [
    "Finally, we will use the same code structure to compute the actual percentage of district literacy rates that fall within +/- 3 SD from the mean."
   ]
  },
  {
   "cell_type": "code",
   "execution_count": 9,
   "metadata": {
    "colab": {
     "base_uri": "https://localhost:8080/"
    },
    "id": "dyNrQvr3Sxrx",
    "outputId": "5b24bebc-f03a-4701-ea70-c9158b2cfd92"
   },
   "outputs": [
    {
     "data": {
      "text/plain": [
       "np.float64(0.9968454258675079)"
      ]
     },
     "execution_count": 9,
     "metadata": {},
     "output_type": "execute_result"
    }
   ],
   "source": [
    "lower_limit = mean_overall_li - 3 * std_overall_li\n",
    "upper_limit = mean_overall_li + 3 * std_overall_li\n",
    "((education_districtwise['OVERALL_LI'] >= lower_limit) & (education_districtwise['OVERALL_LI'] <= upper_limit)).mean()"
   ]
  },
  {
   "cell_type": "markdown",
   "metadata": {
    "id": "n-HqvTZZTvbn"
   },
   "source": [
    "Our values agree quite well with the empirical rule!\n",
    "\n",
    "Our values of 66.4%, 95.4%, and 99.6% are very close to the values the empirical rule suggests: roughly 68%, 95%, and 99.7%.\n"
   ]
  },
  {
   "cell_type": "markdown",
   "metadata": {
    "id": "YIwk2KMBtyfw"
   },
   "source": [
    "Knowing that your data is normally distributed is useful for analysis because many statistical tests and machine learning models assume a normal distribution. Plus, when your data follows a normal distribution, you can use z-scores to measure the relative position of your values and find outliers in your data."
   ]
  },
  {
   "cell_type": "markdown",
   "metadata": {
    "id": "DAmMvHFaZEoO"
   },
   "source": [
    "### Compute z-scores to find outliers\n",
    "\n",
    "Recall that a **z-score** is a measure of how many standard deviations below or above the population mean a data point is. A z-score is useful because it tells you where a value lies in a distribution. \n",
    "\n",
    "Data professionals often use z-scores for outlier detection. Typically, they consider observations with a z-score smaller than -3 or larger than +3 as outliers. In other words, these are values that lie more than +/- 3 SDs from the mean. "
   ]
  },
  {
   "cell_type": "markdown",
   "metadata": {
    "id": "PbJKMvrWbLSl"
   },
   "source": [
    "To find outliers in the data, we will first create a new column called `Z_SCORE` that includes the z-scores for each district literacy rate in your dataset. Recall that the `OVERALL_LI` column lists all the district literacy rates.  \n",
    "\n",
    "Then, we will compute the z-scores using the function `scipy.stats.zscore()`. \n",
    "\n",
    "**Reference**: [scipy.stats.zscore](https://docs.scipy.org/doc/scipy/reference/generated/scipy.stats.zscore.html)"
   ]
  },
  {
   "cell_type": "code",
   "execution_count": 10,
   "metadata": {
    "colab": {
     "base_uri": "https://localhost:8080/",
     "height": 423
    },
    "id": "wIxqTUlgZTq2",
    "outputId": "24607793-ce2c-4bf1-cfdc-2fe46eae0175"
   },
   "outputs": [
    {
     "data": {
      "text/html": [
       "<div>\n",
       "<style scoped>\n",
       "    .dataframe tbody tr th:only-of-type {\n",
       "        vertical-align: middle;\n",
       "    }\n",
       "\n",
       "    .dataframe tbody tr th {\n",
       "        vertical-align: top;\n",
       "    }\n",
       "\n",
       "    .dataframe thead th {\n",
       "        text-align: right;\n",
       "    }\n",
       "</style>\n",
       "<table border=\"1\" class=\"dataframe\">\n",
       "  <thead>\n",
       "    <tr style=\"text-align: right;\">\n",
       "      <th></th>\n",
       "      <th>DISTNAME</th>\n",
       "      <th>STATNAME</th>\n",
       "      <th>BLOCKS</th>\n",
       "      <th>VILLAGES</th>\n",
       "      <th>CLUSTERS</th>\n",
       "      <th>TOTPOPULAT</th>\n",
       "      <th>OVERALL_LI</th>\n",
       "      <th>Z_SCORE</th>\n",
       "    </tr>\n",
       "  </thead>\n",
       "  <tbody>\n",
       "    <tr>\n",
       "      <th>0</th>\n",
       "      <td>DISTRICT32</td>\n",
       "      <td>STATE1</td>\n",
       "      <td>13</td>\n",
       "      <td>391</td>\n",
       "      <td>104</td>\n",
       "      <td>875564.0</td>\n",
       "      <td>66.92</td>\n",
       "      <td>-0.641712</td>\n",
       "    </tr>\n",
       "    <tr>\n",
       "      <th>1</th>\n",
       "      <td>DISTRICT649</td>\n",
       "      <td>STATE1</td>\n",
       "      <td>18</td>\n",
       "      <td>678</td>\n",
       "      <td>144</td>\n",
       "      <td>1015503.0</td>\n",
       "      <td>66.93</td>\n",
       "      <td>-0.640721</td>\n",
       "    </tr>\n",
       "    <tr>\n",
       "      <th>2</th>\n",
       "      <td>DISTRICT229</td>\n",
       "      <td>STATE1</td>\n",
       "      <td>8</td>\n",
       "      <td>94</td>\n",
       "      <td>65</td>\n",
       "      <td>1269751.0</td>\n",
       "      <td>71.21</td>\n",
       "      <td>-0.216559</td>\n",
       "    </tr>\n",
       "    <tr>\n",
       "      <th>3</th>\n",
       "      <td>DISTRICT259</td>\n",
       "      <td>STATE1</td>\n",
       "      <td>13</td>\n",
       "      <td>523</td>\n",
       "      <td>104</td>\n",
       "      <td>735753.0</td>\n",
       "      <td>57.98</td>\n",
       "      <td>-1.527694</td>\n",
       "    </tr>\n",
       "    <tr>\n",
       "      <th>4</th>\n",
       "      <td>DISTRICT486</td>\n",
       "      <td>STATE1</td>\n",
       "      <td>8</td>\n",
       "      <td>359</td>\n",
       "      <td>64</td>\n",
       "      <td>570060.0</td>\n",
       "      <td>65.00</td>\n",
       "      <td>-0.831990</td>\n",
       "    </tr>\n",
       "    <tr>\n",
       "      <th>...</th>\n",
       "      <td>...</td>\n",
       "      <td>...</td>\n",
       "      <td>...</td>\n",
       "      <td>...</td>\n",
       "      <td>...</td>\n",
       "      <td>...</td>\n",
       "      <td>...</td>\n",
       "      <td>...</td>\n",
       "    </tr>\n",
       "    <tr>\n",
       "      <th>675</th>\n",
       "      <td>DISTRICT522</td>\n",
       "      <td>STATE29</td>\n",
       "      <td>37</td>\n",
       "      <td>876</td>\n",
       "      <td>137</td>\n",
       "      <td>5296396.0</td>\n",
       "      <td>78.05</td>\n",
       "      <td>0.461307</td>\n",
       "    </tr>\n",
       "    <tr>\n",
       "      <th>676</th>\n",
       "      <td>DISTRICT498</td>\n",
       "      <td>STATE29</td>\n",
       "      <td>64</td>\n",
       "      <td>1458</td>\n",
       "      <td>230</td>\n",
       "      <td>4042191.0</td>\n",
       "      <td>56.06</td>\n",
       "      <td>-1.717972</td>\n",
       "    </tr>\n",
       "    <tr>\n",
       "      <th>677</th>\n",
       "      <td>DISTRICT343</td>\n",
       "      <td>STATE29</td>\n",
       "      <td>59</td>\n",
       "      <td>1117</td>\n",
       "      <td>216</td>\n",
       "      <td>3483648.0</td>\n",
       "      <td>65.05</td>\n",
       "      <td>-0.827035</td>\n",
       "    </tr>\n",
       "    <tr>\n",
       "      <th>678</th>\n",
       "      <td>DISTRICT130</td>\n",
       "      <td>STATE29</td>\n",
       "      <td>51</td>\n",
       "      <td>993</td>\n",
       "      <td>211</td>\n",
       "      <td>3522644.0</td>\n",
       "      <td>66.16</td>\n",
       "      <td>-0.717030</td>\n",
       "    </tr>\n",
       "    <tr>\n",
       "      <th>679</th>\n",
       "      <td>DISTRICT341</td>\n",
       "      <td>STATE29</td>\n",
       "      <td>41</td>\n",
       "      <td>783</td>\n",
       "      <td>185</td>\n",
       "      <td>2798214.0</td>\n",
       "      <td>65.46</td>\n",
       "      <td>-0.786403</td>\n",
       "    </tr>\n",
       "  </tbody>\n",
       "</table>\n",
       "<p>634 rows × 8 columns</p>\n",
       "</div>"
      ],
      "text/plain": [
       "        DISTNAME STATNAME  BLOCKS  VILLAGES  CLUSTERS  TOTPOPULAT  OVERALL_LI  \\\n",
       "0     DISTRICT32   STATE1      13       391       104    875564.0       66.92   \n",
       "1    DISTRICT649   STATE1      18       678       144   1015503.0       66.93   \n",
       "2    DISTRICT229   STATE1       8        94        65   1269751.0       71.21   \n",
       "3    DISTRICT259   STATE1      13       523       104    735753.0       57.98   \n",
       "4    DISTRICT486   STATE1       8       359        64    570060.0       65.00   \n",
       "..           ...      ...     ...       ...       ...         ...         ...   \n",
       "675  DISTRICT522  STATE29      37       876       137   5296396.0       78.05   \n",
       "676  DISTRICT498  STATE29      64      1458       230   4042191.0       56.06   \n",
       "677  DISTRICT343  STATE29      59      1117       216   3483648.0       65.05   \n",
       "678  DISTRICT130  STATE29      51       993       211   3522644.0       66.16   \n",
       "679  DISTRICT341  STATE29      41       783       185   2798214.0       65.46   \n",
       "\n",
       "      Z_SCORE  \n",
       "0   -0.641712  \n",
       "1   -0.640721  \n",
       "2   -0.216559  \n",
       "3   -1.527694  \n",
       "4   -0.831990  \n",
       "..        ...  \n",
       "675  0.461307  \n",
       "676 -1.717972  \n",
       "677 -0.827035  \n",
       "678 -0.717030  \n",
       "679 -0.786403  \n",
       "\n",
       "[634 rows x 8 columns]"
      ]
     },
     "execution_count": 10,
     "metadata": {},
     "output_type": "execute_result"
    }
   ],
   "source": [
    "education_districtwise['Z_SCORE'] = stats.zscore(education_districtwise['OVERALL_LI'])\n",
    "education_districtwise"
   ]
  },
  {
   "cell_type": "markdown",
   "metadata": {
    "id": "oiRnl538wzrU"
   },
   "source": [
    "Now that we have computed z-scores for our dataset,we will write some code to identify outliers, or districts with z-scores that are more than +/- 3 SDs from the mean. Let's use the relational operators greater than (`>`) and less than (`<`), and the bitwise operator OR (`|`). "
   ]
  },
  {
   "cell_type": "code",
   "execution_count": 11,
   "metadata": {
    "colab": {
     "base_uri": "https://localhost:8080/",
     "height": 112
    },
    "id": "DQgX8AqsbwNj",
    "outputId": "e1abd3d6-a43a-493d-a53a-fb5bf03dc872"
   },
   "outputs": [
    {
     "data": {
      "text/html": [
       "<div>\n",
       "<style scoped>\n",
       "    .dataframe tbody tr th:only-of-type {\n",
       "        vertical-align: middle;\n",
       "    }\n",
       "\n",
       "    .dataframe tbody tr th {\n",
       "        vertical-align: top;\n",
       "    }\n",
       "\n",
       "    .dataframe thead th {\n",
       "        text-align: right;\n",
       "    }\n",
       "</style>\n",
       "<table border=\"1\" class=\"dataframe\">\n",
       "  <thead>\n",
       "    <tr style=\"text-align: right;\">\n",
       "      <th></th>\n",
       "      <th>DISTNAME</th>\n",
       "      <th>STATNAME</th>\n",
       "      <th>BLOCKS</th>\n",
       "      <th>VILLAGES</th>\n",
       "      <th>CLUSTERS</th>\n",
       "      <th>TOTPOPULAT</th>\n",
       "      <th>OVERALL_LI</th>\n",
       "      <th>Z_SCORE</th>\n",
       "    </tr>\n",
       "  </thead>\n",
       "  <tbody>\n",
       "    <tr>\n",
       "      <th>434</th>\n",
       "      <td>DISTRICT461</td>\n",
       "      <td>STATE31</td>\n",
       "      <td>4</td>\n",
       "      <td>360</td>\n",
       "      <td>53</td>\n",
       "      <td>532791.0</td>\n",
       "      <td>42.67</td>\n",
       "      <td>-3.044964</td>\n",
       "    </tr>\n",
       "    <tr>\n",
       "      <th>494</th>\n",
       "      <td>DISTRICT429</td>\n",
       "      <td>STATE22</td>\n",
       "      <td>6</td>\n",
       "      <td>612</td>\n",
       "      <td>62</td>\n",
       "      <td>728677.0</td>\n",
       "      <td>37.22</td>\n",
       "      <td>-3.585076</td>\n",
       "    </tr>\n",
       "  </tbody>\n",
       "</table>\n",
       "</div>"
      ],
      "text/plain": [
       "        DISTNAME STATNAME  BLOCKS  VILLAGES  CLUSTERS  TOTPOPULAT  OVERALL_LI  \\\n",
       "434  DISTRICT461  STATE31       4       360        53    532791.0       42.67   \n",
       "494  DISTRICT429  STATE22       6       612        62    728677.0       37.22   \n",
       "\n",
       "      Z_SCORE  \n",
       "434 -3.044964  \n",
       "494 -3.585076  "
      ]
     },
     "execution_count": 11,
     "metadata": {},
     "output_type": "execute_result"
    }
   ],
   "source": [
    "education_districtwise[(education_districtwise['Z_SCORE'] > 3) | (education_districtwise['Z_SCORE'] < -3)]"
   ]
  },
  {
   "cell_type": "markdown",
   "metadata": {
    "id": "rEC30CiPcgga"
   },
   "source": [
    "Using z-scores, we can identify two outlying districts that have unusually low literacy rates: `DISTRICT461` and `DISTRICT429`. The literacy rates in these two districts are more than 3 SDs *below* the  overall mean literacy rate. "
   ]
  },
  {
   "cell_type": "markdown",
   "metadata": {
    "id": "WDsbFx-kxw7Z"
   },
   "source": [
    "Our analysis gives us important information to share. The government may want to provide more funding and resources to these two districts in the hopes of significantly improving literacy. "
   ]
  }
 ],
 "metadata": {
  "colab": {
   "provenance": [
    {
     "file_id": "15XTcvU9PLaw6iQ96pjxz2iaWNgL6HQYX",
     "timestamp": 1662732915716
    },
    {
     "file_id": "11wX9uRJE6bre_2cLWwRWPe0YnIjDR4bJ",
     "timestamp": 1657752183255
    }
   ]
  },
  "kernelspec": {
   "display_name": "Python 3",
   "language": "python",
   "name": "python3"
  },
  "language_info": {
   "codemirror_mode": {
    "name": "ipython",
    "version": 3
   },
   "file_extension": ".py",
   "mimetype": "text/x-python",
   "name": "python",
   "nbconvert_exporter": "python",
   "pygments_lexer": "ipython3",
   "version": "3.13.1"
  }
 },
 "nbformat": 4,
 "nbformat_minor": 1
}
